{
 "cells": [
  {
   "cell_type": "code",
   "execution_count": 2,
   "id": "05a0e173-148e-4b2f-a5dd-cb093de1d5e1",
   "metadata": {},
   "outputs": [],
   "source": [
    "import re\n",
    "import numpy as np\n",
    "import emoji as emoji\n",
    "import string\n",
    "import pandas as pd\n",
    "import csv\n",
    "from sklearn.feature_extraction import text\n",
    " \n",
    "data = pd.read_csv(\"translated_german.csv\")\n",
    "datas= data['Tweet'].tolist()\n",
    "new = list()\n",
    "\n",
    "file = open(\"clean_german.csv\", \"w\")\n",
    "writer = csv.writer(file)\n",
    " \n",
    "emoticons = [':-)', ':)', '(:', '(-:', ':))', '((:', ':-D', ':D', 'X-D', 'XD', 'xD', 'xD', '<3', '</3', ':\\*',\n",
    "             ';-)',\n",
    "             ';)', ';-D', ';D', '(;', '(-;', ':-(', ':(', '(:', '(-:', ':,(', ':\\'(', ':\"(', ':((', ':D', '=D',\n",
    "             '=)',\n",
    "             '(=', '=(', ')=', '=-O', 'O-=', ':o', 'o:', 'O:', 'O:', ':-o', 'o-:', ':P', ':p', ':S', ':s', ':@',\n",
    "             ':>',\n",
    "             ':<', '^_^', '^.^', '>.>', 'T_T', 'T-T', '-.-', '*.*', '~.~', ':*', ':-*', 'xP', 'XP', 'XP', 'Xp',\n",
    "             ':-|',\n",
    "             ':->', ':-<', '$_$', '8-)', ':-P', ':-p', '=P', '=p', ':*)', '*-*', 'B-)', 'O.o', 'X-(', ')-X']\n",
    "for value in datas:\n",
    "    text = value.replace(\".\", \" \").lower()\n",
    "    text = re.sub(r\"[^a-zA-Z?.!,¿]+\", \" \", text)\n",
    "    users = re.findall(\"[@]\\w+\", text)\n",
    "    for user in users:\n",
    "        text = text.replace(user, \"\")\n",
    "    urls = re.findall(r'(https?://[^\\s]+)', text)\n",
    "    if len(urls) != 0:\n",
    "        for url in urls:\n",
    "            text = text.replace(url, \"\")\n",
    "    for emo in text:\n",
    "        if emo in emoji.UNICODE_EMOJI:\n",
    "            text = text.replace(emo, \"\")\n",
    "    for emo in emoticons:\n",
    "        text = text.replace(emo, \"\")\n",
    "    numbers = re.findall('[0-9]+', text)\n",
    "    for number in numbers:\n",
    "        text = text.replace(number, \"\")\n",
    "    text = text.replace('#', \"\")\n",
    "    text = re.sub(r\"([?.!,¿])\", r\" \", text)\n",
    "    text = \"\".join(l for l in text if l not in string.punctuation)\n",
    "    text = re.sub(r'[\" \"]+', \" \", text)\n",
    "    writer.writerow([text])\n",
    "\n",
    "file.close()"
   ]
  },
  {
   "cell_type": "code",
   "execution_count": null,
   "id": "0da96c01-4a90-4ff3-9df6-111f6a716bda",
   "metadata": {},
   "outputs": [],
   "source": []
  }
 ],
 "metadata": {
  "kernelspec": {
   "display_name": "Python 3 (ipykernel)",
   "language": "python",
   "name": "python3"
  },
  "language_info": {
   "codemirror_mode": {
    "name": "ipython",
    "version": 3
   },
   "file_extension": ".py",
   "mimetype": "text/x-python",
   "name": "python",
   "nbconvert_exporter": "python",
   "pygments_lexer": "ipython3",
   "version": "3.9.7"
  }
 },
 "nbformat": 4,
 "nbformat_minor": 5
}
