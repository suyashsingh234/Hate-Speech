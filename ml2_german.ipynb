{
 "cells": [
  {
   "cell_type": "code",
   "execution_count": 1,
   "id": "602abdb4",
   "metadata": {},
   "outputs": [],
   "source": [
    "import numpy as np\n",
    "import pandas as pd\n",
    "from sklearn import metrics, manifold\n",
    "from tqdm import tqdm\n",
    "import gensim.downloader as gensim_api\n",
    "import transformers\n",
    "import os"
   ]
  },
  {
   "cell_type": "code",
   "execution_count": 2,
   "id": "bcf36c6a",
   "metadata": {},
   "outputs": [
    {
     "name": "stdout",
     "output_type": "stream",
     "text": [
      "                                                 Text\n",
      "0    rosenmontag is cancelled rapefugees so go to ...\n",
      "1   please do not make t rkei a eu member human ri...\n",
      "2   why do rapefugees get more than our hartz enpf...\n",
      "3   declare war on the cursed rapefugees ren what ...\n",
      "4   i spent the weekend in the ruhrpott berall pre...\n",
      "..                                                ...\n",
      "73  some say the afd w hler should sch men i think...\n",
      "74   maischberger laschet pegida does not exist in...\n",
      "75   beateuhse f rdert sharia on the internet sexs...\n",
      "76  thank you clausnitz f r for your resistance yo...\n",
      "77  as hartaberfair said of asylants drop out of t...\n",
      "\n",
      "[78 rows x 1 columns]\n"
     ]
    }
   ],
   "source": [
    "df=pd.read_csv('clean_german.csv')\n",
    "print(df)"
   ]
  },
  {
   "cell_type": "code",
   "execution_count": 3,
   "id": "2107691c",
   "metadata": {},
   "outputs": [],
   "source": [
    "nlp = gensim_api.load(\"glove-wiki-gigaword-300\")"
   ]
  },
  {
   "cell_type": "code",
   "execution_count": 4,
   "id": "b86c9512",
   "metadata": {},
   "outputs": [
    {
     "data": {
      "text/plain": [
       "[('slur', 0.5023007392883301),\n",
       " ('niggers', 0.5003144145011902),\n",
       " ('faggot', 0.4708784222602844)]"
      ]
     },
     "execution_count": 4,
     "metadata": {},
     "output_type": "execute_result"
    }
   ],
   "source": [
    "nlp.most_similar([\"nigger\"], topn=3)"
   ]
  },
  {
   "cell_type": "code",
   "execution_count": 5,
   "id": "773a60b3",
   "metadata": {},
   "outputs": [],
   "source": [
    "def get_similar_words(lst_words, top, nlp):\n",
    "    lst_out = lst_words\n",
    "    for tupla in nlp.most_similar(lst_words, topn=top):\n",
    "        lst_out.append(tupla[0])\n",
    "    return list(set(lst_out))"
   ]
  },
  {
   "cell_type": "code",
   "execution_count": 6,
   "id": "08569834",
   "metadata": {},
   "outputs": [],
   "source": [
    "def similarWords(words, top, nlp):\n",
    "    out = words\n",
    "    for tupl in nlp.most_similar(words, topn=top):\n",
    "        out.append(tupl[0])\n",
    "    return list(set(out))"
   ]
  },
  {
   "cell_type": "code",
   "execution_count": 7,
   "id": "5da4bedb",
   "metadata": {},
   "outputs": [],
   "source": [
    "clusters={}\n",
    "clusters['Hate']=get_similar_words(['nigger'], top=30, nlp=nlp)"
   ]
  },
  {
   "cell_type": "code",
   "execution_count": 8,
   "id": "84dae921",
   "metadata": {},
   "outputs": [
    {
     "name": "stderr",
     "output_type": "stream",
     "text": [
      "Some layers from the model checkpoint at al were not used when initializing TFDistilBertModel: ['vocab_projector', 'activation_13', 'vocab_layer_norm', 'vocab_transform']\n",
      "- This IS expected if you are initializing TFDistilBertModel from the checkpoint of a model trained on another task or with another architecture (e.g. initializing a BertForSequenceClassification model from a BertForPreTraining model).\n",
      "- This IS NOT expected if you are initializing TFDistilBertModel from the checkpoint of a model that you expect to be exactly identical (initializing a BertForSequenceClassification model from a BertForSequenceClassification model).\n",
      "All the layers of TFDistilBertModel were initialized from the model checkpoint at al.\n",
      "If your task is similar to the task the model of the checkpoint was trained on, you can already use TFDistilBertModel for predictions without further training.\n"
     ]
    }
   ],
   "source": [
    "tokenizer = transformers.DistilBertTokenizer.from_pretrained('al', do_lower_case=True)\n",
    "nlp = transformers.TFDistilBertModel.from_pretrained('al')"
   ]
  },
  {
   "cell_type": "code",
   "execution_count": 9,
   "id": "cabcd65e",
   "metadata": {},
   "outputs": [],
   "source": [
    "def utils_bert_embedding(txt, tokenizer, nlp):\n",
    "    '''\n",
    "    Word embedding with Bert (equivalent to nlp[\"word\"]).\n",
    "    :parameter\n",
    "        :param txt: string \n",
    "        :param tokenizer: transformers tokenizer\n",
    "        :param nlp: transformers bert\n",
    "    :return\n",
    "        tensor sentences x words x vector (1x3x768) \n",
    "    '''\n",
    "    # tokenize sentence to tokens (integers)\n",
    "    idx = tokenizer.encode(txt)\n",
    "    # convert to array of shape (1, num_words+2) - EOS and CLS added\n",
    "    idx = np.array(idx)[None,:]\n",
    "    # generate embeddings for each token - output is a tuple\n",
    "    embedding = nlp(idx)\n",
    "    # select first member of the tuple, remove first dimension which is 1 to get (num_words,embedding size 712)\n",
    "    # exclude CLS and EOS tokens\n",
    "    X = np.array(embedding[0][0][1:-1])\n",
    "    return X"
   ]
  },
  {
   "cell_type": "code",
   "execution_count": 12,
   "id": "6d893fb5",
   "metadata": {},
   "outputs": [
    {
     "name": "stderr",
     "output_type": "stream",
     "text": [
      "100%|██████████████████████████████████████████████████████████████████████████████████| 78/78 [00:16<00:00,  4.59it/s]"
     ]
    },
    {
     "name": "stdout",
     "output_type": "stream",
     "text": [
      "Wall time: 17 s\n"
     ]
    },
    {
     "name": "stderr",
     "output_type": "stream",
     "text": [
      "\n"
     ]
    }
   ],
   "source": [
    "%%time\n",
    "## create list of news vector\n",
    "lst_mean_vecs = [utils_bert_embedding(txt, tokenizer, nlp).mean(0) for txt in tqdm(df['Text'])]"
   ]
  },
  {
   "cell_type": "code",
   "execution_count": 13,
   "id": "4162cc94",
   "metadata": {},
   "outputs": [
    {
     "data": {
      "text/plain": [
       "(78, 768)"
      ]
     },
     "execution_count": 13,
     "metadata": {},
     "output_type": "execute_result"
    }
   ],
   "source": [
    "X = np.array(lst_mean_vecs)\n",
    "X.shape"
   ]
  },
  {
   "cell_type": "code",
   "execution_count": 14,
   "id": "945ccdde",
   "metadata": {},
   "outputs": [],
   "source": [
    "np.savetxt(\"mean_vec1.csv\", X, delimiter=\"/\")"
   ]
  },
  {
   "cell_type": "code",
   "execution_count": 15,
   "id": "cccf300c",
   "metadata": {},
   "outputs": [
    {
     "name": "stdout",
     "output_type": "stream",
     "text": [
      "[[-0.08889363 -0.2499831   0.4918324  ... -0.21615508  0.09056231\n",
      "   0.00895423]\n",
      " [ 0.01453196 -0.01375164  0.15098774 ... -0.19944124 -0.00079832\n",
      "  -0.00361341]\n",
      " [ 0.09978797 -0.02607891  0.33643827 ... -0.12164424  0.05101203\n",
      "  -0.04370996]\n",
      " ...\n",
      " [ 0.00883903  0.04213968  0.01920451 ... -0.10729934  0.19589607\n",
      "  -0.19700228]\n",
      " [-0.13405605  0.15001018  0.32929188 ... -0.16506599  0.02666243\n",
      "  -0.10023975]\n",
      " [-0.09904741 -0.0745475   0.14409822 ... -0.17031202 -0.0065194\n",
      "  -0.00408686]]\n"
     ]
    }
   ],
   "source": [
    "print(X)"
   ]
  },
  {
   "cell_type": "code",
   "execution_count": 16,
   "id": "79dc74f9",
   "metadata": {},
   "outputs": [
    {
     "name": "stdout",
     "output_type": "stream",
     "text": [
      "[[-0.08889363 -0.2499831   0.49183241 ... -0.21615508  0.09056231\n",
      "   0.00895423]\n",
      " [ 0.01453196 -0.01375164  0.15098774 ... -0.19944124 -0.00079832\n",
      "  -0.00361341]\n",
      " [ 0.09978797 -0.02607891  0.33643827 ... -0.12164424  0.05101203\n",
      "  -0.04370996]\n",
      " ...\n",
      " [ 0.00883903  0.04213968  0.01920451 ... -0.10729934  0.19589607\n",
      "  -0.19700228]\n",
      " [-0.13405605  0.15001018  0.32929188 ... -0.16506599  0.02666243\n",
      "  -0.10023975]\n",
      " [-0.09904741 -0.0745475   0.14409822 ... -0.17031202 -0.0065194\n",
      "  -0.00408686]]\n"
     ]
    }
   ],
   "source": [
    "from numpy import genfromtxt\n",
    "my_data = genfromtxt('mean_vec1.csv', delimiter='/')\n",
    "print(my_data)"
   ]
  },
  {
   "cell_type": "code",
   "execution_count": 17,
   "id": "ab13dfc0",
   "metadata": {},
   "outputs": [
    {
     "name": "stderr",
     "output_type": "stream",
     "text": [
      "100%|████████████████████████████████████████████████████████████████████████████████████| 1/1 [00:00<00:00,  8.87it/s]\n"
     ]
    }
   ],
   "source": [
    "dic_y = {k:utils_bert_embedding(v, tokenizer, nlp).mean(0) for k,v in tqdm(clusters.items())}"
   ]
  },
  {
   "cell_type": "code",
   "execution_count": 18,
   "id": "c10a883a",
   "metadata": {},
   "outputs": [
    {
     "name": "stdout",
     "output_type": "stream",
     "text": [
      "dict_keys(['Hate'])\n"
     ]
    }
   ],
   "source": [
    "print(dic_y.keys())"
   ]
  },
  {
   "cell_type": "code",
   "execution_count": 19,
   "id": "f110330e",
   "metadata": {},
   "outputs": [],
   "source": [
    "def fix_NAN_inf_values(x):\n",
    "    '''Replace NaN with zero and infinity with large finite numbers'''\n",
    "    if len(np.where(np.isnan(X))[0])>0 or len(np.where(np.isnan(X))[1])>0:\n",
    "        return np.nan_to_num(X)"
   ]
  },
  {
   "cell_type": "code",
   "execution_count": 20,
   "id": "b31beb83",
   "metadata": {},
   "outputs": [],
   "source": [
    "similarities = np.array(\n",
    "            [metrics.pairwise.cosine_similarity(X, [dic_y['Hate']]).T.tolist()[0]]\n",
    "            ).T"
   ]
  },
  {
   "cell_type": "code",
   "execution_count": 21,
   "id": "c2506e38",
   "metadata": {},
   "outputs": [
    {
     "name": "stdout",
     "output_type": "stream",
     "text": [
      "[[0.49571425]\n",
      " [0.48937312]\n",
      " [0.51029003]\n",
      " [0.53475392]\n",
      " [0.51717645]\n",
      " [0.50182265]\n",
      " [0.53629196]\n",
      " [0.53428841]\n",
      " [0.5335449 ]\n",
      " [0.50220072]\n",
      " [0.50912225]\n",
      " [0.48859301]\n",
      " [0.53794795]\n",
      " [0.4754771 ]\n",
      " [0.54740316]\n",
      " [0.47702679]\n",
      " [0.48103133]\n",
      " [0.50357038]\n",
      " [0.42633939]\n",
      " [0.511962  ]\n",
      " [0.50569618]\n",
      " [0.48262191]\n",
      " [0.5298726 ]\n",
      " [0.4976792 ]\n",
      " [0.49899203]\n",
      " [0.5059886 ]\n",
      " [0.48710132]\n",
      " [0.48185098]\n",
      " [0.53224224]\n",
      " [0.46482545]\n",
      " [0.51834762]\n",
      " [0.46855077]\n",
      " [0.50564623]\n",
      " [0.47287118]\n",
      " [0.51633036]\n",
      " [0.52536625]\n",
      " [0.50599992]\n",
      " [0.4878861 ]\n",
      " [0.46579754]\n",
      " [0.52143627]\n",
      " [0.5150407 ]\n",
      " [0.51411408]\n",
      " [0.44385803]\n",
      " [0.51133323]\n",
      " [0.45966506]\n",
      " [0.52212048]\n",
      " [0.51263791]\n",
      " [0.50871074]\n",
      " [0.53115791]\n",
      " [0.53031051]\n",
      " [0.53079116]\n",
      " [0.52257323]\n",
      " [0.50580478]\n",
      " [0.44881582]\n",
      " [0.49760669]\n",
      " [0.4903253 ]\n",
      " [0.50885582]\n",
      " [0.52140194]\n",
      " [0.48662254]\n",
      " [0.49733394]\n",
      " [0.49150765]\n",
      " [0.52566546]\n",
      " [0.52959508]\n",
      " [0.52886313]\n",
      " [0.53163755]\n",
      " [0.46265057]\n",
      " [0.50101715]\n",
      " [0.52671963]\n",
      " [0.49405685]\n",
      " [0.52913141]\n",
      " [0.50591362]\n",
      " [0.53351915]\n",
      " [0.52395505]\n",
      " [0.4872084 ]\n",
      " [0.51918179]\n",
      " [0.50438809]\n",
      " [0.5097822 ]\n",
      " [0.49335092]]\n"
     ]
    }
   ],
   "source": [
    "print(similarities)"
   ]
  },
  {
   "cell_type": "code",
   "execution_count": 22,
   "id": "a2b5e3fa",
   "metadata": {},
   "outputs": [],
   "source": [
    "import matplotlib.pyplot as plt"
   ]
  },
  {
   "cell_type": "code",
   "execution_count": 23,
   "id": "14bcfeb8",
   "metadata": {},
   "outputs": [
    {
     "data": {
      "text/plain": [
       "[<matplotlib.lines.Line2D at 0x1ebc1631040>]"
      ]
     },
     "execution_count": 23,
     "metadata": {},
     "output_type": "execute_result"
    },
    {
     "data": {
      "image/png": "[encoded data removed]",
      "text/plain": [
       "<Figure size 432x288 with 1 Axes>"
      ]
     },
     "metadata": {
      "needs_background": "light"
     },
     "output_type": "display_data"
    }
   ],
   "source": [
    "plt.plot(similarities)"
   ]
  },
  {
   "cell_type": "code",
   "execution_count": 24,
   "id": "ac3ed244",
   "metadata": {},
   "outputs": [
    {
     "data": {
      "image/png": "[encoded data removed]",
      "text/plain": [
       "<Figure size 432x288 with 1 Axes>"
      ]
     },
     "metadata": {
      "needs_background": "light"
     },
     "output_type": "display_data"
    }
   ],
   "source": [
    "y=[]\n",
    "for similarity in similarities:\n",
    "    y.append(similarity[0])\n",
    "\n",
    "x=np.arange(df.shape[0])\n",
    "plt.bar(x,height=y)\n",
    "plt.show()"
   ]
  },
  {
   "cell_type": "code",
   "execution_count": 25,
   "id": "c801d6c2",
   "metadata": {},
   "outputs": [],
   "source": [
    "# relevant=(z == 0).sum()+(z == 1).sum()\n",
    "# print(relevant)"
   ]
  },
  {
   "cell_type": "code",
   "execution_count": 26,
   "id": "c5f55171",
   "metadata": {},
   "outputs": [
    {
     "name": "stdout",
     "output_type": "stream",
     "text": [
      "58\n"
     ]
    }
   ],
   "source": [
    "retrieved=(similarities>0.49).sum()\n",
    "print(retrieved)\n"
   ]
  },
  {
   "cell_type": "code",
   "execution_count": null,
   "id": "0783cedb",
   "metadata": {},
   "outputs": [],
   "source": [
    "# tp=0\n",
    "# for i in range (0,4000):\n",
    "#     if(similarities[i]>0.50 and z[i]<2):\n",
    "#         tp=tp+1\n",
    "# print(tp)"
   ]
  },
  {
   "cell_type": "code",
   "execution_count": null,
   "id": "15daf0ff",
   "metadata": {},
   "outputs": [],
   "source": [
    "# precision=tp/retrieved\n",
    "# print(\"Precision is\",precision)"
   ]
  },
  {
   "cell_type": "code",
   "execution_count": null,
   "id": "bcb11322",
   "metadata": {},
   "outputs": [],
   "source": [
    "# fn=0\n",
    "# for i in range (0,4000):\n",
    "#     if(similarities[i]<0.50 and z[i]<2):\n",
    "#         fn=fn+1\n",
    "# recall=tp/(fn+tp)\n",
    "# print(\"Recall is\",recall)"
   ]
  },
  {
   "cell_type": "code",
   "execution_count": null,
   "id": "a2c5e539",
   "metadata": {},
   "outputs": [],
   "source": [
    "# fp=retrieved-tp\n",
    "# tn=0\n",
    "# for i in range (0,4000):\n",
    "#     if(similarities[i]<0.50 and z[i]==2):\n",
    "#         tn=tn+1\n",
    "# accuracy=(tp+tn)/(tp+tn+fn+fp)\n",
    "# print(\"Accuracy is\",accuracy)"
   ]
  },
  {
   "cell_type": "code",
   "execution_count": null,
   "id": "fc3ee410",
   "metadata": {},
   "outputs": [],
   "source": []
  },
  {
   "cell_type": "code",
   "execution_count": null,
   "id": "99dca86b",
   "metadata": {},
   "outputs": [],
   "source": []
  }
 ],
 "metadata": {
  "kernelspec": {
   "display_name": "Python 3 (ipykernel)",
   "language": "python",
   "name": "python3"
  },
  "language_info": {
   "codemirror_mode": {
    "name": "ipython",
    "version": 3
   },
   "file_extension": ".py",
   "mimetype": "text/x-python",
   "name": "python",
   "nbconvert_exporter": "python",
   "pygments_lexer": "ipython3",
   "version": "3.9.7"
  }
 },
 "nbformat": 4,
 "nbformat_minor": 5
}
