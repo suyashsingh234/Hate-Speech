{
 "cells": [
  {
   "cell_type": "code",
   "execution_count": 2,
   "id": "976c51d4-f6cb-467c-9faa-463be0e434dc",
   "metadata": {},
   "outputs": [],
   "source": [
    "import re\n",
    "import numpy as np\n",
    "import emoji as emoji\n",
    "import string\n",
    "import pandas as pd\n",
    "import csv\n",
    "from sklearn.feature_extraction import text\n",
    " \n",
    "data = pd.read_csv(\"offensive1.csv\")\n",
    "datas= data['tweet'].tolist()\n",
    "new = list()\n",
    "\n",
    "file = open(\"output.csv\", \"w\")\n",
    "writer = csv.writer(file)\n",
    " \n",
    "emoticons = [':-)', ':)', '(:', '(-:', ':))', '((:', ':-D', ':D', 'X-D', 'XD', 'xD', 'xD', '<3', '</3', ':\\*',\n",
    "             ';-)',\n",
    "             ';)', ';-D', ';D', '(;', '(-;', ':-(', ':(', '(:', '(-:', ':,(', ':\\'(', ':\"(', ':((', ':D', '=D',\n",
    "             '=)',\n",
    "             '(=', '=(', ')=', '=-O', 'O-=', ':o', 'o:', 'O:', 'O:', ':-o', 'o-:', ':P', ':p', ':S', ':s', ':@',\n",
    "             ':>',\n",
    "             ':<', '^_^', '^.^', '>.>', 'T_T', 'T-T', '-.-', '*.*', '~.~', ':*', ':-*', 'xP', 'XP', 'XP', 'Xp',\n",
    "             ':-|',\n",
    "             ':->', ':-<', '$_$', '8-)', ':-P', ':-p', '=P', '=p', ':*)', '*-*', 'B-)', 'O.o', 'X-(', ')-X']\n",
    "for value in datas:\n",
    "    text = value.replace(\".\", \" \").lower()\n",
    "    text = re.sub(r\"[^a-zA-Z?.!,¿]+\", \" \", text)\n",
    "    users = re.findall(\"[@]\\w+\", text)\n",
    "    for user in users:\n",
    "        text = text.replace(user, \"\")\n",
    "    urls = re.findall(r'(https?://[^\\s]+)', text)\n",
    "    if len(urls) != 0:\n",
    "        for url in urls:\n",
    "            text = text.replace(url, \"\")\n",
    "    for emo in text:\n",
    "        if emo in emoji.UNICODE_EMOJI:\n",
    "            text = text.replace(emo, \"\")\n",
    "    for emo in emoticons:\n",
    "        text = text.replace(emo, \"\")\n",
    "    numbers = re.findall('[0-9]+', text)\n",
    "    for number in numbers:\n",
    "        text = text.replace(number, \"\")\n",
    "    text = text.replace('#', \"\")\n",
    "    text = re.sub(r\"([?.!,¿])\", r\" \", text)\n",
    "    text = \"\".join(l for l in text if l not in string.punctuation)\n",
    "    text = re.sub(r'[\" \"]+', \" \", text)\n",
    "    writer.writerow([text])\n",
    "\n",
    "file.close()"
   ]
  },
  {
   "cell_type": "code",
   "execution_count": null,
   "id": "4fc8d37c-c702-40bd-a0cc-a3e478e7a04b",
   "metadata": {},
   "outputs": [],
   "source": []
  }
 ],
 "metadata": {
  "kernelspec": {
   "display_name": "Python 3 (ipykernel)",
   "language": "python",
   "name": "python3"
  },
  "language_info": {
   "codemirror_mode": {
    "name": "ipython",
    "version": 3
   },
   "file_extension": ".py",
   "mimetype": "text/x-python",
   "name": "python",
   "nbconvert_exporter": "python",
   "pygments_lexer": "ipython3",
   "version": "3.9.7"
  }
 },
 "nbformat": 4,
 "nbformat_minor": 5
}
