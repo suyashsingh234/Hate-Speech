{
 "cells": [
  {
   "cell_type": "code",
   "execution_count": 1,
   "id": "ecfc6edb-4120-4e32-8cdf-4e8eb6d1f6d6",
   "metadata": {},
   "outputs": [],
   "source": [
    "import pytesseract"
   ]
  },
  {
   "cell_type": "code",
   "execution_count": 2,
   "id": "c3c90287-403c-4e38-a4e4-156fc2658aa1",
   "metadata": {},
   "outputs": [],
   "source": [
    "pytesseract.pytesseract.tesseract_cmd=r\"C:\\\\Program Files\\\\Tesseract-OCR\\\\tesseract.exe\""
   ]
  },
  {
   "cell_type": "code",
   "execution_count": 3,
   "id": "3f809f07-2685-4c64-af26-9ea54797e43c",
   "metadata": {},
   "outputs": [],
   "source": [
    "text=pytesseract.image_to_string(\"meme.png\")"
   ]
  },
  {
   "cell_type": "code",
   "execution_count": 4,
   "id": "f1cdf777-9d45-4dcb-95e5-ecfd8a932137",
   "metadata": {},
   "outputs": [
    {
     "name": "stdout",
     "output_type": "stream",
     "text": [
      "NOT SURE IF TALREADY READ THIS\n",
      "\n",
      ":\n",
      "\n",
      "ORITS JUST A MEME\n",
      "\n"
     ]
    }
   ],
   "source": [
    "print(text)"
   ]
  },
  {
   "cell_type": "code",
   "execution_count": 5,
   "id": "cce882ec-74ee-4dfb-b878-d2e433084783",
   "metadata": {},
   "outputs": [
    {
     "name": "stdout",
     "output_type": "stream",
     "text": [
      "je racist if other race\n",
      "whenWwourdebit card decliiig athe abortion  anna ills tlhe halhy hack in \n",
      "\n",
      "ken nein g) ] y \n",
      "\n",
      "1 Si ‘the wort! you're.loo \n",
      "> ainerican teenagegirl ~~ >  visiting the children of africa\n",
      "TAOS \n",
      "ijustioundoutmexiean babies come out justilikejthe foot \n",
      "when|the/schoolishooter, accidently/shoots theautistie|kid hut doesnt know that the tart SUTIN SUMS TO bullets - | \n",
      "Lsiiiniongutimnss “S \n",
      "\n",
      "\n",
      "\n",
      "On oa Oo.  wa  THAT FAGGOT am |  Lae RAT AT) \n",
      "UGLY  Becta’\n",
      "\n",
      "NIGGER UP 1!  fc, el ae\n",
      "D0 IT FAGGOT \n",
      "\n",
      "OH YOU|RE A NIGGER?) ie |  ye  ~ A PLEASE TELUMEHOW MUCH SOCIETY LOVES YOU.v=.\n"
     ]
    }
   ],
   "source": [
    "############\n",
    "import os\n",
    "import csv\n",
    "\n",
    "directory='images'\n",
    "csvFile='offensive.csv'\n",
    "\n",
    "with open(csvFile,'w') as csvfile:\n",
    "    csvwriter = csv.writer(csvfile) \n",
    "\n",
    "for filename in os.listdir(directory):\n",
    "    f = os.path.join(directory, filename)\n",
    "    if os.path.isfile(f):\n",
    "        text=pytesseract.image_to_string(f)\n",
    "        with open(csvFile,'a') as csvfile:\n",
    "            csvwriter = csv.writer(csvfile) \n",
    "            text = ' '.join(text.splitlines())\n",
    "            print(text)\n",
    "            csvwriter.writerow([text])"
   ]
  },
  {
   "cell_type": "code",
   "execution_count": 9,
   "id": "ac840821-5a01-4784-aeff-c761d6ef3e5f",
   "metadata": {},
   "outputs": [],
   "source": [
    " with open('offensive.csv') as input, open('offensive1.csv', 'w', newline='') as output:\n",
    "     writer = csv.writer(output)\n",
    "     for row in csv.reader(input):\n",
    "         if any(field.strip() for field in row):\n",
    "             writer.writerow(row)"
   ]
  },
  {
   "cell_type": "code",
   "execution_count": null,
   "id": "126f0fda-4abc-4ed9-af8a-bf2cc1fb5ecd",
   "metadata": {},
   "outputs": [],
   "source": []
  }
 ],
 "metadata": {
  "kernelspec": {
   "display_name": "Python 3 (ipykernel)",
   "language": "python",
   "name": "python3"
  },
  "language_info": {
   "codemirror_mode": {
    "name": "ipython",
    "version": 3
   },
   "file_extension": ".py",
   "mimetype": "text/x-python",
   "name": "python",
   "nbconvert_exporter": "python",
   "pygments_lexer": "ipython3",
   "version": "3.9.7"
  }
 },
 "nbformat": 4,
 "nbformat_minor": 5
}
