{
 "cells": [
  {
   "cell_type": "code",
   "execution_count": 1,
   "id": "602abdb4",
   "metadata": {},
   "outputs": [],
   "source": [
    "import numpy as np\n",
    "import pandas as pd\n",
    "from sklearn import metrics, manifold\n",
    "from tqdm import tqdm\n",
    "import gensim.downloader as gensim_api\n",
    "import transformers\n",
    "import os"
   ]
  },
  {
   "cell_type": "code",
   "execution_count": 2,
   "id": "bcf36c6a",
   "metadata": {},
   "outputs": [
    {
     "name": "stdout",
     "output_type": "stream",
     "text": [
      "                              je racist if other race\n",
      "0   whenwwourdebit card decliiig athe abortion ann...\n",
      "1                                       ken nein g y \n",
      "2                             si the wort you re loo \n",
      "3    ainerican teenagegirl visiting the children o...\n",
      "4                                               taos \n",
      "5   ijustioundoutmexiean babies come out justilike...\n",
      "6   when the schoolishooter accidently shoots thea...\n",
      "7                                lsiiiniongutimnss s \n",
      "8              on oa oo wa that faggot am lae rat at \n",
      "9                                         ugly becta \n",
      "10                                 nigger up fc el ae\n",
      "11                                       d it faggot \n",
      "12  oh you re a nigger ie ye a please telumehow mu...\n"
     ]
    }
   ],
   "source": [
    "df=pd.read_csv('output.csv')\n",
    "print(df)"
   ]
  },
  {
   "cell_type": "code",
   "execution_count": 3,
   "id": "2107691c",
   "metadata": {},
   "outputs": [],
   "source": [
    "nlp = gensim_api.load(\"glove-wiki-gigaword-300\")"
   ]
  },
  {
   "cell_type": "code",
   "execution_count": 4,
   "id": "b86c9512",
   "metadata": {},
   "outputs": [
    {
     "data": {
      "text/plain": [
       "[('slur', 0.5023007392883301),\n",
       " ('niggers', 0.5003144145011902),\n",
       " ('faggot', 0.4708784222602844)]"
      ]
     },
     "execution_count": 4,
     "metadata": {},
     "output_type": "execute_result"
    }
   ],
   "source": [
    "nlp.most_similar([\"nigger\"], topn=3)"
   ]
  },
  {
   "cell_type": "code",
   "execution_count": 5,
   "id": "773a60b3",
   "metadata": {},
   "outputs": [],
   "source": [
    "def get_similar_words(lst_words, top, nlp):\n",
    "    lst_out = lst_words\n",
    "    for tupla in nlp.most_similar(lst_words, topn=top):\n",
    "        lst_out.append(tupla[0])\n",
    "    return list(set(lst_out))"
   ]
  },
  {
   "cell_type": "code",
   "execution_count": 6,
   "id": "08569834",
   "metadata": {},
   "outputs": [],
   "source": [
    "def similarWords(words, top, nlp):\n",
    "    out = words\n",
    "    for tupl in nlp.most_similar(words, topn=top):\n",
    "        out.append(tupl[0])\n",
    "    return list(set(out))"
   ]
  },
  {
   "cell_type": "code",
   "execution_count": 7,
   "id": "5da4bedb",
   "metadata": {},
   "outputs": [],
   "source": [
    "clusters={}\n",
    "clusters['Hate']=get_similar_words(['nigger'], top=30, nlp=nlp)"
   ]
  },
  {
   "cell_type": "code",
   "execution_count": 8,
   "id": "84dae921",
   "metadata": {},
   "outputs": [
    {
     "ename": "HTTPError",
     "evalue": "404 Client Error: Not Found for url: https://huggingface.co/api/models/al",
     "output_type": "error",
     "traceback": [
      "\u001b[1;31m---------------------------------------------------------------------------\u001b[0m",
      "\u001b[1;31mHTTPError\u001b[0m                                 Traceback (most recent call last)",
      "\u001b[1;32mC:\\Users\\SUYASH~1\\AppData\\Local\\Temp/ipykernel_12440/994396188.py\u001b[0m in \u001b[0;36m<module>\u001b[1;34m\u001b[0m\n\u001b[1;32m----> 1\u001b[1;33m \u001b[0mtokenizer\u001b[0m \u001b[1;33m=\u001b[0m \u001b[0mtransformers\u001b[0m\u001b[1;33m.\u001b[0m\u001b[0mDistilBertTokenizer\u001b[0m\u001b[1;33m.\u001b[0m\u001b[0mfrom_pretrained\u001b[0m\u001b[1;33m(\u001b[0m\u001b[1;34m'al'\u001b[0m\u001b[1;33m,\u001b[0m \u001b[0mdo_lower_case\u001b[0m\u001b[1;33m=\u001b[0m\u001b[1;32mTrue\u001b[0m\u001b[1;33m)\u001b[0m\u001b[1;33m\u001b[0m\u001b[1;33m\u001b[0m\u001b[0m\n\u001b[0m\u001b[0;32m      2\u001b[0m \u001b[0mnlp\u001b[0m \u001b[1;33m=\u001b[0m \u001b[0mtransformers\u001b[0m\u001b[1;33m.\u001b[0m\u001b[0mTFDistilBertModel\u001b[0m\u001b[1;33m.\u001b[0m\u001b[0mfrom_pretrained\u001b[0m\u001b[1;33m(\u001b[0m\u001b[1;34m'al'\u001b[0m\u001b[1;33m)\u001b[0m\u001b[1;33m\u001b[0m\u001b[1;33m\u001b[0m\u001b[0m\n",
      "\u001b[1;32m~\\AppData\\Local\\Programs\\Python\\Python39\\lib\\site-packages\\transformers\\tokenization_utils_base.py\u001b[0m in \u001b[0;36mfrom_pretrained\u001b[1;34m(cls, pretrained_model_name_or_path, *init_inputs, **kwargs)\u001b[0m\n\u001b[0;32m   1647\u001b[0m         \u001b[1;32melse\u001b[0m\u001b[1;33m:\u001b[0m\u001b[1;33m\u001b[0m\u001b[1;33m\u001b[0m\u001b[0m\n\u001b[0;32m   1648\u001b[0m             \u001b[1;31m# At this point pretrained_model_name_or_path is either a directory or a model identifier name\u001b[0m\u001b[1;33m\u001b[0m\u001b[1;33m\u001b[0m\u001b[0m\n\u001b[1;32m-> 1649\u001b[1;33m             fast_tokenizer_file = get_fast_tokenizer_file(\n\u001b[0m\u001b[0;32m   1650\u001b[0m                 \u001b[0mpretrained_model_name_or_path\u001b[0m\u001b[1;33m,\u001b[0m\u001b[1;33m\u001b[0m\u001b[1;33m\u001b[0m\u001b[0m\n\u001b[0;32m   1651\u001b[0m                 \u001b[0mrevision\u001b[0m\u001b[1;33m=\u001b[0m\u001b[0mrevision\u001b[0m\u001b[1;33m,\u001b[0m\u001b[1;33m\u001b[0m\u001b[1;33m\u001b[0m\u001b[0m\n",
      "\u001b[1;32m~\\AppData\\Local\\Programs\\Python\\Python39\\lib\\site-packages\\transformers\\tokenization_utils_base.py\u001b[0m in \u001b[0;36mget_fast_tokenizer_file\u001b[1;34m(path_or_repo, revision, use_auth_token, local_files_only)\u001b[0m\n\u001b[0;32m   3423\u001b[0m     \"\"\"\n\u001b[0;32m   3424\u001b[0m     \u001b[1;31m# Inspect all files from the repo/folder.\u001b[0m\u001b[1;33m\u001b[0m\u001b[1;33m\u001b[0m\u001b[0m\n\u001b[1;32m-> 3425\u001b[1;33m     all_files = get_list_of_files(\n\u001b[0m\u001b[0;32m   3426\u001b[0m         \u001b[0mpath_or_repo\u001b[0m\u001b[1;33m,\u001b[0m \u001b[0mrevision\u001b[0m\u001b[1;33m=\u001b[0m\u001b[0mrevision\u001b[0m\u001b[1;33m,\u001b[0m \u001b[0muse_auth_token\u001b[0m\u001b[1;33m=\u001b[0m\u001b[0muse_auth_token\u001b[0m\u001b[1;33m,\u001b[0m \u001b[0mlocal_files_only\u001b[0m\u001b[1;33m=\u001b[0m\u001b[0mlocal_files_only\u001b[0m\u001b[1;33m\u001b[0m\u001b[1;33m\u001b[0m\u001b[0m\n\u001b[0;32m   3427\u001b[0m     )\n",
      "\u001b[1;32m~\\AppData\\Local\\Programs\\Python\\Python39\\lib\\site-packages\\transformers\\file_utils.py\u001b[0m in \u001b[0;36mget_list_of_files\u001b[1;34m(path_or_repo, revision, use_auth_token, local_files_only)\u001b[0m\n\u001b[0;32m   1728\u001b[0m     \u001b[1;32melse\u001b[0m\u001b[1;33m:\u001b[0m\u001b[1;33m\u001b[0m\u001b[1;33m\u001b[0m\u001b[0m\n\u001b[0;32m   1729\u001b[0m         \u001b[0mtoken\u001b[0m \u001b[1;33m=\u001b[0m \u001b[1;32mNone\u001b[0m\u001b[1;33m\u001b[0m\u001b[1;33m\u001b[0m\u001b[0m\n\u001b[1;32m-> 1730\u001b[1;33m     model_info = HfApi(endpoint=HUGGINGFACE_CO_RESOLVE_ENDPOINT).model_info(\n\u001b[0m\u001b[0;32m   1731\u001b[0m         \u001b[0mpath_or_repo\u001b[0m\u001b[1;33m,\u001b[0m \u001b[0mrevision\u001b[0m\u001b[1;33m=\u001b[0m\u001b[0mrevision\u001b[0m\u001b[1;33m,\u001b[0m \u001b[0mtoken\u001b[0m\u001b[1;33m=\u001b[0m\u001b[0mtoken\u001b[0m\u001b[1;33m\u001b[0m\u001b[1;33m\u001b[0m\u001b[0m\n\u001b[0;32m   1732\u001b[0m     )\n",
      "\u001b[1;32m~\\AppData\\Local\\Programs\\Python\\Python39\\lib\\site-packages\\huggingface_hub\\hf_api.py\u001b[0m in \u001b[0;36mmodel_info\u001b[1;34m(self, repo_id, revision, token)\u001b[0m\n\u001b[0;32m    501\u001b[0m         )\n\u001b[0;32m    502\u001b[0m         \u001b[0mr\u001b[0m \u001b[1;33m=\u001b[0m \u001b[0mrequests\u001b[0m\u001b[1;33m.\u001b[0m\u001b[0mget\u001b[0m\u001b[1;33m(\u001b[0m\u001b[0mpath\u001b[0m\u001b[1;33m,\u001b[0m \u001b[0mheaders\u001b[0m\u001b[1;33m=\u001b[0m\u001b[0mheaders\u001b[0m\u001b[1;33m)\u001b[0m\u001b[1;33m\u001b[0m\u001b[1;33m\u001b[0m\u001b[0m\n\u001b[1;32m--> 503\u001b[1;33m         \u001b[0mr\u001b[0m\u001b[1;33m.\u001b[0m\u001b[0mraise_for_status\u001b[0m\u001b[1;33m(\u001b[0m\u001b[1;33m)\u001b[0m\u001b[1;33m\u001b[0m\u001b[1;33m\u001b[0m\u001b[0m\n\u001b[0m\u001b[0;32m    504\u001b[0m         \u001b[0md\u001b[0m \u001b[1;33m=\u001b[0m \u001b[0mr\u001b[0m\u001b[1;33m.\u001b[0m\u001b[0mjson\u001b[0m\u001b[1;33m(\u001b[0m\u001b[1;33m)\u001b[0m\u001b[1;33m\u001b[0m\u001b[1;33m\u001b[0m\u001b[0m\n\u001b[0;32m    505\u001b[0m         \u001b[1;32mreturn\u001b[0m \u001b[0mModelInfo\u001b[0m\u001b[1;33m(\u001b[0m\u001b[1;33m**\u001b[0m\u001b[0md\u001b[0m\u001b[1;33m)\u001b[0m\u001b[1;33m\u001b[0m\u001b[1;33m\u001b[0m\u001b[0m\n",
      "\u001b[1;32m~\\AppData\\Local\\Programs\\Python\\Python39\\lib\\site-packages\\requests\\models.py\u001b[0m in \u001b[0;36mraise_for_status\u001b[1;34m(self)\u001b[0m\n\u001b[0;32m    951\u001b[0m \u001b[1;33m\u001b[0m\u001b[0m\n\u001b[0;32m    952\u001b[0m         \u001b[1;32mif\u001b[0m \u001b[0mhttp_error_msg\u001b[0m\u001b[1;33m:\u001b[0m\u001b[1;33m\u001b[0m\u001b[1;33m\u001b[0m\u001b[0m\n\u001b[1;32m--> 953\u001b[1;33m             \u001b[1;32mraise\u001b[0m \u001b[0mHTTPError\u001b[0m\u001b[1;33m(\u001b[0m\u001b[0mhttp_error_msg\u001b[0m\u001b[1;33m,\u001b[0m \u001b[0mresponse\u001b[0m\u001b[1;33m=\u001b[0m\u001b[0mself\u001b[0m\u001b[1;33m)\u001b[0m\u001b[1;33m\u001b[0m\u001b[1;33m\u001b[0m\u001b[0m\n\u001b[0m\u001b[0;32m    954\u001b[0m \u001b[1;33m\u001b[0m\u001b[0m\n\u001b[0;32m    955\u001b[0m     \u001b[1;32mdef\u001b[0m \u001b[0mclose\u001b[0m\u001b[1;33m(\u001b[0m\u001b[0mself\u001b[0m\u001b[1;33m)\u001b[0m\u001b[1;33m:\u001b[0m\u001b[1;33m\u001b[0m\u001b[1;33m\u001b[0m\u001b[0m\n",
      "\u001b[1;31mHTTPError\u001b[0m: 404 Client Error: Not Found for url: https://huggingface.co/api/models/al"
     ]
    }
   ],
   "source": [
    "tokenizer = transformers.DistilBertTokenizer.from_pretrained('al', do_lower_case=True)\n",
    "nlp = transformers.TFDistilBertModel.from_pretrained('al')"
   ]
  },
  {
   "cell_type": "code",
   "execution_count": null,
   "id": "cabcd65e",
   "metadata": {},
   "outputs": [],
   "source": [
    "def utils_bert_embedding(txt, tokenizer, nlp):\n",
    "    '''\n",
    "    Word embedding with Bert (equivalent to nlp[\"word\"]).\n",
    "    :parameter\n",
    "        :param txt: string \n",
    "        :param tokenizer: transformers tokenizer\n",
    "        :param nlp: transformers bert\n",
    "    :return\n",
    "        tensor sentences x words x vector (1x3x768) \n",
    "    '''\n",
    "    # tokenize sentence to tokens (integers)\n",
    "    idx = tokenizer.encode(txt)\n",
    "    # convert to array of shape (1, num_words+2) - EOS and CLS added\n",
    "    idx = np.array(idx)[None,:]\n",
    "    # generate embeddings for each token - output is a tuple\n",
    "    embedding = nlp(idx)\n",
    "    # select first member of the tuple, remove first dimension which is 1 to get (num_words,embedding size 712)\n",
    "    # exclude CLS and EOS tokens\n",
    "    X = np.array(embedding[0][0][1:-1])\n",
    "    return X"
   ]
  },
  {
   "cell_type": "code",
   "execution_count": null,
   "id": "6d893fb5",
   "metadata": {},
   "outputs": [],
   "source": [
    "%%time\n",
    "## create list of news vector\n",
    "lst_mean_vecs = [utils_bert_embedding(txt, tokenizer, nlp).mean(0) for txt in tqdm(df['tweet'])]"
   ]
  },
  {
   "cell_type": "code",
   "execution_count": null,
   "id": "4162cc94",
   "metadata": {},
   "outputs": [],
   "source": [
    "X = np.array(lst_mean_vecs)\n",
    "X.shape"
   ]
  },
  {
   "cell_type": "code",
   "execution_count": null,
   "id": "945ccdde",
   "metadata": {},
   "outputs": [],
   "source": [
    "np.savetxt(\"mean_vec1.csv\", X, delimiter=\"/\")"
   ]
  },
  {
   "cell_type": "code",
   "execution_count": null,
   "id": "cccf300c",
   "metadata": {},
   "outputs": [],
   "source": [
    "print(X)"
   ]
  },
  {
   "cell_type": "code",
   "execution_count": null,
   "id": "79dc74f9",
   "metadata": {},
   "outputs": [],
   "source": [
    "from numpy import genfromtxt\n",
    "my_data = genfromtxt('mean_vec1.csv', delimiter='/')\n",
    "print(my_data)"
   ]
  },
  {
   "cell_type": "code",
   "execution_count": null,
   "id": "ab13dfc0",
   "metadata": {},
   "outputs": [],
   "source": [
    "dic_y = {k:utils_bert_embedding(v, tokenizer, nlp).mean(0) for k,v in tqdm(clusters.items())}"
   ]
  },
  {
   "cell_type": "code",
   "execution_count": null,
   "id": "c10a883a",
   "metadata": {},
   "outputs": [],
   "source": [
    "print(dic_y.keys())"
   ]
  },
  {
   "cell_type": "code",
   "execution_count": null,
   "id": "f110330e",
   "metadata": {},
   "outputs": [],
   "source": [
    "def fix_NAN_inf_values(x):\n",
    "    '''Replace NaN with zero and infinity with large finite numbers'''\n",
    "    if len(np.where(np.isnan(X))[0])>0 or len(np.where(np.isnan(X))[1])>0:\n",
    "        return np.nan_to_num(X)"
   ]
  },
  {
   "cell_type": "code",
   "execution_count": null,
   "id": "b31beb83",
   "metadata": {},
   "outputs": [],
   "source": [
    "similarities = np.array(\n",
    "            [metrics.pairwise.cosine_similarity(X, [dic_y['Hate']]).T.tolist()[0]]\n",
    "            ).T"
   ]
  },
  {
   "cell_type": "code",
   "execution_count": null,
   "id": "c2506e38",
   "metadata": {},
   "outputs": [],
   "source": [
    "print(similarities)"
   ]
  },
  {
   "cell_type": "code",
   "execution_count": null,
   "id": "1a11f139",
   "metadata": {},
   "outputs": [],
   "source": [
    "dtf=pd.read_csv('full_data/hate_speech_mlma/hate_speech_mlma/fr_dataset.csv')\n"
   ]
  },
  {
   "cell_type": "code",
   "execution_count": null,
   "id": "075197d7",
   "metadata": {},
   "outputs": [],
   "source": [
    "print(dtf['sentiment'])"
   ]
  },
  {
   "cell_type": "code",
   "execution_count": null,
   "id": "318538f3",
   "metadata": {},
   "outputs": [],
   "source": [
    "z=np.array(dtf['sentiment'])\n",
    "print(z[21])"
   ]
  },
  {
   "cell_type": "code",
   "execution_count": null,
   "id": "a2b5e3fa",
   "metadata": {},
   "outputs": [],
   "source": [
    "import matplotlib.pyplot as plt"
   ]
  },
  {
   "cell_type": "code",
   "execution_count": null,
   "id": "14bcfeb8",
   "metadata": {},
   "outputs": [],
   "source": [
    "plt.plot(similarities)"
   ]
  },
  {
   "cell_type": "code",
   "execution_count": null,
   "id": "ac3ed244",
   "metadata": {},
   "outputs": [],
   "source": [
    "y=[]\n",
    "for similarity in similarities:\n",
    "    y.append(similarity[0])\n",
    "\n",
    "x=np.arange(df.shape[0])\n",
    "plt.bar(x,height=y)\n",
    "plt.show()"
   ]
  },
  {
   "cell_type": "code",
   "execution_count": null,
   "id": "a5a64375",
   "metadata": {},
   "outputs": [],
   "source": [
    "plt.plot(z[:200])"
   ]
  },
  {
   "cell_type": "code",
   "execution_count": null,
   "id": "c801d6c2",
   "metadata": {},
   "outputs": [],
   "source": [
    "# relevant=(z == 0).sum()+(z == 1).sum()\n",
    "# print(relevant)"
   ]
  },
  {
   "cell_type": "code",
   "execution_count": null,
   "id": "c5f55171",
   "metadata": {},
   "outputs": [],
   "source": [
    "retrieved=(similarities>0.49).sum()\n",
    "print(retrieved)\n"
   ]
  },
  {
   "cell_type": "code",
   "execution_count": null,
   "id": "0783cedb",
   "metadata": {},
   "outputs": [],
   "source": [
    "# tp=0\n",
    "# for i in range (0,4000):\n",
    "#     if(similarities[i]>0.50 and z[i]<2):\n",
    "#         tp=tp+1\n",
    "# print(tp)"
   ]
  },
  {
   "cell_type": "code",
   "execution_count": null,
   "id": "15daf0ff",
   "metadata": {},
   "outputs": [],
   "source": [
    "# precision=tp/retrieved\n",
    "# print(\"Precision is\",precision)"
   ]
  },
  {
   "cell_type": "code",
   "execution_count": null,
   "id": "bcb11322",
   "metadata": {},
   "outputs": [],
   "source": [
    "# fn=0\n",
    "# for i in range (0,4000):\n",
    "#     if(similarities[i]<0.50 and z[i]<2):\n",
    "#         fn=fn+1\n",
    "# recall=tp/(fn+tp)\n",
    "# print(\"Recall is\",recall)"
   ]
  },
  {
   "cell_type": "code",
   "execution_count": null,
   "id": "a2c5e539",
   "metadata": {},
   "outputs": [],
   "source": [
    "# fp=retrieved-tp\n",
    "# tn=0\n",
    "# for i in range (0,4000):\n",
    "#     if(similarities[i]<0.50 and z[i]==2):\n",
    "#         tn=tn+1\n",
    "# accuracy=(tp+tn)/(tp+tn+fn+fp)\n",
    "# print(\"Accuracy is\",accuracy)"
   ]
  },
  {
   "cell_type": "code",
   "execution_count": null,
   "id": "fc3ee410",
   "metadata": {},
   "outputs": [],
   "source": []
  },
  {
   "cell_type": "code",
   "execution_count": null,
   "id": "99dca86b",
   "metadata": {},
   "outputs": [],
   "source": []
  }
 ],
 "metadata": {
  "kernelspec": {
   "display_name": "Python 3 (ipykernel)",
   "language": "python",
   "name": "python3"
  },
  "language_info": {
   "codemirror_mode": {
    "name": "ipython",
    "version": 3
   },
   "file_extension": ".py",
   "mimetype": "text/x-python",
   "name": "python",
   "nbconvert_exporter": "python",
   "pygments_lexer": "ipython3",
   "version": "3.9.7"
  }
 },
 "nbformat": 4,
 "nbformat_minor": 5
}
