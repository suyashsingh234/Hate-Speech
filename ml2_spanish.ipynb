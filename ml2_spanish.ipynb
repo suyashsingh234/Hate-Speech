{
 "cells": [
  {
   "cell_type": "code",
   "execution_count": 1,
   "id": "602abdb4",
   "metadata": {},
   "outputs": [],
   "source": [
    "import numpy as np\n",
    "import pandas as pd\n",
    "from sklearn import metrics, manifold\n",
    "from tqdm import tqdm\n",
    "import gensim.downloader as gensim_api\n",
    "import transformers\n",
    "import os"
   ]
  },
  {
   "cell_type": "code",
   "execution_count": 2,
   "id": "bcf36c6a",
   "metadata": {},
   "outputs": [
    {
     "name": "stdout",
     "output_type": "stream",
     "text": [
      "                                                 Text\n",
      "0   and to think that they had earned our respect ...\n",
      "1   and for what what do you want to prove i am a ...\n",
      "2   i agree for what is which the most of men are ...\n",
      "3   that no one understands that these women are b...\n",
      "4   but let s see let s go on strike so that they ...\n",
      "..                                                ...\n",
      "61  the only thing they are going to achieve is ac...\n",
      "62                                   hours of silence\n",
      "63                                  fucking feminazis\n",
      "64  a day without feminazis not a day without wome...\n",
      "65                          we have to make it global\n",
      "\n",
      "[66 rows x 1 columns]\n"
     ]
    }
   ],
   "source": [
    "df=pd.read_csv('clean_spanish.csv')\n",
    "print(df)"
   ]
  },
  {
   "cell_type": "code",
   "execution_count": 3,
   "id": "2107691c",
   "metadata": {},
   "outputs": [],
   "source": [
    "nlp = gensim_api.load(\"glove-wiki-gigaword-300\")"
   ]
  },
  {
   "cell_type": "code",
   "execution_count": 4,
   "id": "b86c9512",
   "metadata": {},
   "outputs": [
    {
     "data": {
      "text/plain": [
       "[('slur', 0.5023007392883301),\n",
       " ('niggers', 0.5003144145011902),\n",
       " ('faggot', 0.4708784222602844)]"
      ]
     },
     "execution_count": 4,
     "metadata": {},
     "output_type": "execute_result"
    }
   ],
   "source": [
    "nlp.most_similar([\"nigger\"], topn=3)"
   ]
  },
  {
   "cell_type": "code",
   "execution_count": 5,
   "id": "773a60b3",
   "metadata": {},
   "outputs": [],
   "source": [
    "def get_similar_words(lst_words, top, nlp):\n",
    "    lst_out = lst_words\n",
    "    for tupla in nlp.most_similar(lst_words, topn=top):\n",
    "        lst_out.append(tupla[0])\n",
    "    return list(set(lst_out))"
   ]
  },
  {
   "cell_type": "code",
   "execution_count": 6,
   "id": "08569834",
   "metadata": {},
   "outputs": [],
   "source": [
    "def similarWords(words, top, nlp):\n",
    "    out = words\n",
    "    for tupl in nlp.most_similar(words, topn=top):\n",
    "        out.append(tupl[0])\n",
    "    return list(set(out))"
   ]
  },
  {
   "cell_type": "code",
   "execution_count": 7,
   "id": "5da4bedb",
   "metadata": {},
   "outputs": [],
   "source": [
    "clusters={}\n",
    "clusters['Hate']=get_similar_words(['nigger'], top=30, nlp=nlp)"
   ]
  },
  {
   "cell_type": "code",
   "execution_count": 8,
   "id": "84dae921",
   "metadata": {},
   "outputs": [
    {
     "name": "stderr",
     "output_type": "stream",
     "text": [
      "Some layers from the model checkpoint at al were not used when initializing TFDistilBertModel: ['vocab_transform', 'vocab_layer_norm', 'activation_13', 'vocab_projector']\n",
      "- This IS expected if you are initializing TFDistilBertModel from the checkpoint of a model trained on another task or with another architecture (e.g. initializing a BertForSequenceClassification model from a BertForPreTraining model).\n",
      "- This IS NOT expected if you are initializing TFDistilBertModel from the checkpoint of a model that you expect to be exactly identical (initializing a BertForSequenceClassification model from a BertForSequenceClassification model).\n",
      "All the layers of TFDistilBertModel were initialized from the model checkpoint at al.\n",
      "If your task is similar to the task the model of the checkpoint was trained on, you can already use TFDistilBertModel for predictions without further training.\n"
     ]
    }
   ],
   "source": [
    "tokenizer = transformers.DistilBertTokenizer.from_pretrained('al', do_lower_case=True)\n",
    "nlp = transformers.TFDistilBertModel.from_pretrained('al')"
   ]
  },
  {
   "cell_type": "code",
   "execution_count": 9,
   "id": "cabcd65e",
   "metadata": {},
   "outputs": [],
   "source": [
    "def utils_bert_embedding(txt, tokenizer, nlp):\n",
    "    '''\n",
    "    Word embedding with Bert (equivalent to nlp[\"word\"]).\n",
    "    :parameter\n",
    "        :param txt: string \n",
    "        :param tokenizer: transformers tokenizer\n",
    "        :param nlp: transformers bert\n",
    "    :return\n",
    "        tensor sentences x words x vector (1x3x768) \n",
    "    '''\n",
    "    # tokenize sentence to tokens (integers)\n",
    "    idx = tokenizer.encode(txt)\n",
    "    # convert to array of shape (1, num_words+2) - EOS and CLS added\n",
    "    idx = np.array(idx)[None,:]\n",
    "    # generate embeddings for each token - output is a tuple\n",
    "    embedding = nlp(idx)\n",
    "    # select first member of the tuple, remove first dimension which is 1 to get (num_words,embedding size 712)\n",
    "    # exclude CLS and EOS tokens\n",
    "    X = np.array(embedding[0][0][1:-1])\n",
    "    return X"
   ]
  },
  {
   "cell_type": "code",
   "execution_count": 10,
   "id": "6d893fb5",
   "metadata": {},
   "outputs": [
    {
     "name": "stderr",
     "output_type": "stream",
     "text": [
      "100%|██████████████████████████████████████████████████████████████████████████████████| 66/66 [00:15<00:00,  4.24it/s]"
     ]
    },
    {
     "name": "stdout",
     "output_type": "stream",
     "text": [
      "Wall time: 15.6 s\n"
     ]
    },
    {
     "name": "stderr",
     "output_type": "stream",
     "text": [
      "\n"
     ]
    }
   ],
   "source": [
    "%%time\n",
    "## create list of news vector\n",
    "lst_mean_vecs = [utils_bert_embedding(txt, tokenizer, nlp).mean(0) for txt in tqdm(df['Text'])]"
   ]
  },
  {
   "cell_type": "code",
   "execution_count": 11,
   "id": "4162cc94",
   "metadata": {},
   "outputs": [
    {
     "data": {
      "text/plain": [
       "(66, 768)"
      ]
     },
     "execution_count": 11,
     "metadata": {},
     "output_type": "execute_result"
    }
   ],
   "source": [
    "X = np.array(lst_mean_vecs)\n",
    "X.shape"
   ]
  },
  {
   "cell_type": "code",
   "execution_count": 12,
   "id": "945ccdde",
   "metadata": {},
   "outputs": [],
   "source": [
    "np.savetxt(\"mean_vec1.csv\", X, delimiter=\"/\")"
   ]
  },
  {
   "cell_type": "code",
   "execution_count": 13,
   "id": "cccf300c",
   "metadata": {},
   "outputs": [
    {
     "name": "stdout",
     "output_type": "stream",
     "text": [
      "[[-0.04548696  0.176633    0.17845267 ... -0.19024503  0.17161676\n",
      "  -0.0337127 ]\n",
      " [-0.00708912  0.21018147  0.16418189 ... -0.19656913  0.2535444\n",
      "  -0.04383207]\n",
      " [-0.09454912  0.24121548  0.07401357 ... -0.27371418  0.26381043\n",
      "   0.01797428]\n",
      " ...\n",
      " [ 0.31398273 -0.04943658  0.10800932 ... -0.31103295  0.09455757\n",
      "   0.05683009]\n",
      " [-0.09919377 -0.0013964   0.17493321 ... -0.23738423  0.19299567\n",
      "   0.23965828]\n",
      " [ 0.05497495 -0.03442862 -0.08954098 ... -0.34679437  0.4187558\n",
      "   0.06945366]]\n"
     ]
    }
   ],
   "source": [
    "print(X)"
   ]
  },
  {
   "cell_type": "code",
   "execution_count": 14,
   "id": "79dc74f9",
   "metadata": {},
   "outputs": [
    {
     "name": "stdout",
     "output_type": "stream",
     "text": [
      "[[-0.04548696  0.176633    0.17845267 ... -0.19024503  0.17161676\n",
      "  -0.0337127 ]\n",
      " [-0.00708912  0.21018147  0.16418189 ... -0.19656913  0.25354439\n",
      "  -0.04383207]\n",
      " [-0.09454912  0.24121548  0.07401357 ... -0.27371418  0.26381043\n",
      "   0.01797428]\n",
      " ...\n",
      " [ 0.31398273 -0.04943658  0.10800932 ... -0.31103295  0.09455757\n",
      "   0.05683009]\n",
      " [-0.09919377 -0.0013964   0.17493321 ... -0.23738423  0.19299567\n",
      "   0.23965828]\n",
      " [ 0.05497495 -0.03442862 -0.08954098 ... -0.34679437  0.4187558\n",
      "   0.06945366]]\n"
     ]
    }
   ],
   "source": [
    "from numpy import genfromtxt\n",
    "my_data = genfromtxt('mean_vec1.csv', delimiter='/')\n",
    "print(my_data)"
   ]
  },
  {
   "cell_type": "code",
   "execution_count": 15,
   "id": "ab13dfc0",
   "metadata": {},
   "outputs": [
    {
     "name": "stderr",
     "output_type": "stream",
     "text": [
      "100%|████████████████████████████████████████████████████████████████████████████████████| 1/1 [00:00<00:00,  3.74it/s]\n"
     ]
    }
   ],
   "source": [
    "dic_y = {k:utils_bert_embedding(v, tokenizer, nlp).mean(0) for k,v in tqdm(clusters.items())}"
   ]
  },
  {
   "cell_type": "code",
   "execution_count": 16,
   "id": "c10a883a",
   "metadata": {},
   "outputs": [
    {
     "name": "stdout",
     "output_type": "stream",
     "text": [
      "dict_keys(['Hate'])\n"
     ]
    }
   ],
   "source": [
    "print(dic_y.keys())"
   ]
  },
  {
   "cell_type": "code",
   "execution_count": 17,
   "id": "f110330e",
   "metadata": {},
   "outputs": [],
   "source": [
    "def fix_NAN_inf_values(x):\n",
    "    '''Replace NaN with zero and infinity with large finite numbers'''\n",
    "    if len(np.where(np.isnan(X))[0])>0 or len(np.where(np.isnan(X))[1])>0:\n",
    "        return np.nan_to_num(X)"
   ]
  },
  {
   "cell_type": "code",
   "execution_count": 18,
   "id": "b31beb83",
   "metadata": {},
   "outputs": [],
   "source": [
    "similarities = np.array(\n",
    "            [metrics.pairwise.cosine_similarity(X, [dic_y['Hate']]).T.tolist()[0]]\n",
    "            ).T"
   ]
  },
  {
   "cell_type": "code",
   "execution_count": 19,
   "id": "c2506e38",
   "metadata": {},
   "outputs": [
    {
     "name": "stdout",
     "output_type": "stream",
     "text": [
      "[[0.53339499]\n",
      " [0.52718532]\n",
      " [0.53678954]\n",
      " [0.51005393]\n",
      " [0.53176636]\n",
      " [0.54419667]\n",
      " [0.49905148]\n",
      " [0.53336132]\n",
      " [0.51038408]\n",
      " [0.53341883]\n",
      " [0.53390372]\n",
      " [0.5341242 ]\n",
      " [0.51280594]\n",
      " [0.53427982]\n",
      " [0.53708565]\n",
      " [0.49324328]\n",
      " [0.52326447]\n",
      " [0.51032937]\n",
      " [0.52730095]\n",
      " [0.52564007]\n",
      " [0.51730049]\n",
      " [0.55091947]\n",
      " [0.50446647]\n",
      " [0.53615481]\n",
      " [0.50895035]\n",
      " [0.51302344]\n",
      " [0.55479234]\n",
      " [0.49984112]\n",
      " [0.52950817]\n",
      " [0.50395161]\n",
      " [0.49567717]\n",
      " [0.52880573]\n",
      " [0.4888908 ]\n",
      " [0.49264994]\n",
      " [0.52738982]\n",
      " [0.51769662]\n",
      " [0.52417409]\n",
      " [0.51703   ]\n",
      " [0.56271553]\n",
      " [0.50188822]\n",
      " [0.48091015]\n",
      " [0.5025444 ]\n",
      " [0.53896093]\n",
      " [0.51814806]\n",
      " [0.48053277]\n",
      " [0.55474222]\n",
      " [0.51645887]\n",
      " [0.54287648]\n",
      " [0.55823296]\n",
      " [0.46962753]\n",
      " [0.50386888]\n",
      " [0.49778175]\n",
      " [0.52046698]\n",
      " [0.54044783]\n",
      " [0.5272429 ]\n",
      " [0.50069278]\n",
      " [0.48238105]\n",
      " [0.45900133]\n",
      " [0.49440578]\n",
      " [0.4285222 ]\n",
      " [0.42026839]\n",
      " [0.484956  ]\n",
      " [0.35025015]\n",
      " [0.51389551]\n",
      " [0.53095341]\n",
      " [0.42032224]]\n"
     ]
    }
   ],
   "source": [
    "print(similarities)"
   ]
  },
  {
   "cell_type": "code",
   "execution_count": 20,
   "id": "a2b5e3fa",
   "metadata": {},
   "outputs": [],
   "source": [
    "import matplotlib.pyplot as plt"
   ]
  },
  {
   "cell_type": "code",
   "execution_count": 21,
   "id": "14bcfeb8",
   "metadata": {},
   "outputs": [
    {
     "data": {
      "text/plain": [
       "[<matplotlib.lines.Line2D at 0x1eb07cd7e50>]"
      ]
     },
     "execution_count": 21,
     "metadata": {},
     "output_type": "execute_result"
    },
    {
     "data": {
      "image/png": "[encoded data removed]",
      "text/plain": [
       "<Figure size 432x288 with 1 Axes>"
      ]
     },
     "metadata": {
      "needs_background": "light"
     },
     "output_type": "display_data"
    }
   ],
   "source": [
    "plt.plot(similarities)"
   ]
  },
  {
   "cell_type": "code",
   "execution_count": 22,
   "id": "ac3ed244",
   "metadata": {},
   "outputs": [
    {
     "data": {
      "image/png": "[encoded data removed]",
      "text/plain": [
       "<Figure size 432x288 with 1 Axes>"
      ]
     },
     "metadata": {
      "needs_background": "light"
     },
     "output_type": "display_data"
    }
   ],
   "source": [
    "y=[]\n",
    "for similarity in similarities:\n",
    "    y.append(similarity[0])\n",
    "\n",
    "x=np.arange(df.shape[0])\n",
    "plt.bar(x,height=y)\n",
    "plt.show()"
   ]
  },
  {
   "cell_type": "code",
   "execution_count": 31,
   "id": "c5f55171",
   "metadata": {},
   "outputs": [
    {
     "name": "stdout",
     "output_type": "stream",
     "text": [
      "48\n"
     ]
    }
   ],
   "source": [
    "retrieved=(similarities>0.5).sum()\n",
    "print(retrieved)\n"
   ]
  },
  {
   "cell_type": "code",
   "execution_count": 24,
   "id": "0783cedb",
   "metadata": {},
   "outputs": [],
   "source": [
    "# tp=0\n",
    "# for i in range (0,4000):\n",
    "#     if(similarities[i]>0.50 and z[i]<2):\n",
    "#         tp=tp+1\n",
    "# print(tp)"
   ]
  },
  {
   "cell_type": "code",
   "execution_count": 25,
   "id": "15daf0ff",
   "metadata": {},
   "outputs": [],
   "source": [
    "# precision=tp/retrieved\n",
    "# print(\"Precision is\",precision)"
   ]
  },
  {
   "cell_type": "code",
   "execution_count": 26,
   "id": "bcb11322",
   "metadata": {},
   "outputs": [],
   "source": [
    "# fn=0\n",
    "# for i in range (0,4000):\n",
    "#     if(similarities[i]<0.50 and z[i]<2):\n",
    "#         fn=fn+1\n",
    "# recall=tp/(fn+tp)\n",
    "# print(\"Recall is\",recall)"
   ]
  },
  {
   "cell_type": "code",
   "execution_count": 27,
   "id": "a2c5e539",
   "metadata": {},
   "outputs": [],
   "source": [
    "# fp=retrieved-tp\n",
    "# tn=0\n",
    "# for i in range (0,4000):\n",
    "#     if(similarities[i]<0.50 and z[i]==2):\n",
    "#         tn=tn+1\n",
    "# accuracy=(tp+tn)/(tp+tn+fn+fp)\n",
    "# print(\"Accuracy is\",accuracy)"
   ]
  },
  {
   "cell_type": "code",
   "execution_count": null,
   "id": "fc3ee410",
   "metadata": {},
   "outputs": [],
   "source": []
  },
  {
   "cell_type": "code",
   "execution_count": null,
   "id": "99dca86b",
   "metadata": {},
   "outputs": [],
   "source": []
  }
 ],
 "metadata": {
  "kernelspec": {
   "display_name": "Python 3 (ipykernel)",
   "language": "python",
   "name": "python3"
  },
  "language_info": {
   "codemirror_mode": {
    "name": "ipython",
    "version": 3
   },
   "file_extension": ".py",
   "mimetype": "text/x-python",
   "name": "python",
   "nbconvert_exporter": "python",
   "pygments_lexer": "ipython3",
   "version": "3.9.7"
  }
 },
 "nbformat": 4,
 "nbformat_minor": 5
}
