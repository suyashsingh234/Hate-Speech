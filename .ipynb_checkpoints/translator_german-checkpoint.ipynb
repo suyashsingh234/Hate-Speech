{
 "cells": [
  {
   "cell_type": "code",
   "execution_count": 1,
   "id": "43208a4c-726e-4e37-bfd5-3ed075a607ee",
   "metadata": {},
   "outputs": [],
   "source": [
    "from translate import Translator\n",
    "from langdetect import detect\n",
    "import pandas"
   ]
  },
  {
   "cell_type": "code",
   "execution_count": 2,
   "id": "0db91c52-c0f7-432b-b1b8-f9619a2a5b17",
   "metadata": {},
   "outputs": [],
   "source": [
    "# Function to remove emojis in text, since these conflict during translation\n",
    "def remove_emoji(text):\n",
    "    return emoji.get_emoji_regexp().sub(u'', text)\n",
    "\n",
    "\n",
    "def approximate_emoji_insert(string, index,char):\n",
    "    if(index<(len(string)-1)):\n",
    "        \n",
    "        while(string[index]!=' ' ):\n",
    "            if(index+1==len(string)):\n",
    "                break\n",
    "            index=index+1\n",
    "        return string[:index] + ' '+char + ' ' + string[index:]\n",
    "    else:\n",
    "        return string + ' '+char + ' ' \n",
    "    \n",
    "\n",
    "\n",
    "def extract_emojis(str1):\n",
    "    try:\n",
    "        return [(c,i) for i,c in enumerate(str1) if c in emoji.UNICODE_EMOJI]\n",
    "    except AttributeError:\n",
    "        return []"
   ]
  },
  {
   "cell_type": "code",
   "execution_count": 3,
   "id": "4ddeeebe-a97f-4128-9192-ef36c16a61af",
   "metadata": {},
   "outputs": [],
   "source": [
    "def translateIt(str):\n",
    "    from_lang_code=detect(str)\n",
    "    translator= Translator(from_lang=\"de\",to_lang=\"en\")\n",
    "    translation = translator.translate(str)\n",
    "    return translation"
   ]
  },
  {
   "cell_type": "code",
   "execution_count": null,
   "id": "71ae9690-a860-4be0-8cdf-d022c053fa3b",
   "metadata": {},
   "outputs": [
    {
     "name": "stdout",
     "output_type": "stream",
     "text": [
      "#Rosenmontag is cancelled. so #Rapefugees go back to the swimming pool as usual!\n",
      "please do not make the #Türkei a #EU member! #Menschenrechte #Pressefreiheit #Islamisierung\n",
      "Why do #rapefugees get more than our Hartz 4 enpfänger?  #esreicht\n",
      "Declare war on the cursed #Rapefugees! #wasfehlt\n",
      "Was the weekend in the Ruhrpott on the way. Everywhere pregnant, Muslim women with a rat's tail on children #Islamisierung\n"
     ]
    },
    {
     "ename": "RuntimeError",
     "evalue": "generator raised StopIteration",
     "output_type": "error",
     "traceback": [
      "\u001b[1;31m---------------------------------------------------------------------------\u001b[0m",
      "\u001b[1;31mStopIteration\u001b[0m                             Traceback (most recent call last)",
      "\u001b[1;32m~\\AppData\\Local\\Programs\\Python\\Python39\\lib\\site-packages\\translate\\translate.py\u001b[0m in \u001b[0;36m<genexpr>\u001b[1;34m(.0)\u001b[0m\n\u001b[0;32m     44\u001b[0m         \u001b[0mtext_list\u001b[0m \u001b[1;33m=\u001b[0m \u001b[0mwrap\u001b[0m\u001b[1;33m(\u001b[0m\u001b[0mtext\u001b[0m\u001b[1;33m,\u001b[0m \u001b[0mTRANSLATION_API_MAX_LENGHT\u001b[0m\u001b[1;33m,\u001b[0m \u001b[0mreplace_whitespace\u001b[0m\u001b[1;33m=\u001b[0m\u001b[1;32mFalse\u001b[0m\u001b[1;33m)\u001b[0m\u001b[1;33m\u001b[0m\u001b[1;33m\u001b[0m\u001b[0m\n\u001b[1;32m---> 45\u001b[1;33m         \u001b[1;32mreturn\u001b[0m \u001b[1;34m' '\u001b[0m\u001b[1;33m.\u001b[0m\u001b[0mjoin\u001b[0m\u001b[1;33m(\u001b[0m\u001b[0mself\u001b[0m\u001b[1;33m.\u001b[0m\u001b[0mprovider\u001b[0m\u001b[1;33m.\u001b[0m\u001b[0mget_translation\u001b[0m\u001b[1;33m(\u001b[0m\u001b[0mtext_wraped\u001b[0m\u001b[1;33m)\u001b[0m \u001b[1;32mfor\u001b[0m \u001b[0mtext_wraped\u001b[0m \u001b[1;32min\u001b[0m \u001b[0mtext_list\u001b[0m\u001b[1;33m)\u001b[0m\u001b[1;33m\u001b[0m\u001b[1;33m\u001b[0m\u001b[0m\n\u001b[0m",
      "\u001b[1;32m~\\AppData\\Local\\Programs\\Python\\Python39\\lib\\site-packages\\translate\\providers\\mymemory_translated.py\u001b[0m in \u001b[0;36mget_translation\u001b[1;34m(self, text)\u001b[0m\n\u001b[0;32m     48\u001b[0m             \u001b[0mmatches\u001b[0m \u001b[1;33m=\u001b[0m \u001b[0mdata\u001b[0m\u001b[1;33m[\u001b[0m\u001b[1;34m'matches'\u001b[0m\u001b[1;33m]\u001b[0m\u001b[1;33m\u001b[0m\u001b[1;33m\u001b[0m\u001b[0m\n\u001b[1;32m---> 49\u001b[1;33m             \u001b[0mnext_best_match\u001b[0m \u001b[1;33m=\u001b[0m \u001b[0mnext\u001b[0m\u001b[1;33m(\u001b[0m\u001b[0mmatch\u001b[0m \u001b[1;32mfor\u001b[0m \u001b[0mmatch\u001b[0m \u001b[1;32min\u001b[0m \u001b[0mmatches\u001b[0m\u001b[1;33m)\u001b[0m\u001b[1;33m\u001b[0m\u001b[1;33m\u001b[0m\u001b[0m\n\u001b[0m\u001b[0;32m     50\u001b[0m             \u001b[1;32mreturn\u001b[0m \u001b[0mnext_best_match\u001b[0m\u001b[1;33m[\u001b[0m\u001b[1;34m'translation'\u001b[0m\u001b[1;33m]\u001b[0m\u001b[1;33m\u001b[0m\u001b[1;33m\u001b[0m\u001b[0m\n",
      "\u001b[1;31mStopIteration\u001b[0m: ",
      "\nThe above exception was the direct cause of the following exception:\n",
      "\u001b[1;31mRuntimeError\u001b[0m                              Traceback (most recent call last)",
      "\u001b[1;32mC:\\Users\\SUYASH~1\\AppData\\Local\\Temp/ipykernel_11196/43566519.py\u001b[0m in \u001b[0;36m<module>\u001b[1;34m\u001b[0m\n\u001b[0;32m      3\u001b[0m \u001b[1;33m\u001b[0m\u001b[0m\n\u001b[0;32m      4\u001b[0m \u001b[1;32mfor\u001b[0m \u001b[0mrow\u001b[0m \u001b[1;32min\u001b[0m \u001b[0mdf\u001b[0m\u001b[1;33m.\u001b[0m\u001b[0mitertuples\u001b[0m\u001b[1;33m(\u001b[0m\u001b[1;33m)\u001b[0m\u001b[1;33m:\u001b[0m\u001b[1;33m\u001b[0m\u001b[1;33m\u001b[0m\u001b[0m\n\u001b[1;32m----> 5\u001b[1;33m     \u001b[0mprint\u001b[0m\u001b[1;33m(\u001b[0m\u001b[0mtranslateIt\u001b[0m\u001b[1;33m(\u001b[0m\u001b[0mrow\u001b[0m\u001b[1;33m.\u001b[0m\u001b[0mTweet\u001b[0m\u001b[1;33m)\u001b[0m\u001b[1;33m)\u001b[0m\u001b[1;33m\u001b[0m\u001b[1;33m\u001b[0m\u001b[0m\n\u001b[0m\u001b[0;32m      6\u001b[0m \u001b[1;33m\u001b[0m\u001b[0m\n\u001b[0;32m      7\u001b[0m \u001b[0mdf\u001b[0m\u001b[1;33m.\u001b[0m\u001b[0mto_csv\u001b[0m\u001b[1;33m(\u001b[0m\u001b[1;34m\"translated.csv\"\u001b[0m\u001b[1;33m)\u001b[0m\u001b[1;33m\u001b[0m\u001b[1;33m\u001b[0m\u001b[0m\n",
      "\u001b[1;32mC:\\Users\\SUYASH~1\\AppData\\Local\\Temp/ipykernel_11196/1505927288.py\u001b[0m in \u001b[0;36mtranslateIt\u001b[1;34m(str)\u001b[0m\n\u001b[0;32m      2\u001b[0m     \u001b[0mfrom_lang_code\u001b[0m\u001b[1;33m=\u001b[0m\u001b[0mdetect\u001b[0m\u001b[1;33m(\u001b[0m\u001b[0mstr\u001b[0m\u001b[1;33m)\u001b[0m\u001b[1;33m\u001b[0m\u001b[1;33m\u001b[0m\u001b[0m\n\u001b[0;32m      3\u001b[0m     \u001b[0mtranslator\u001b[0m\u001b[1;33m=\u001b[0m \u001b[0mTranslator\u001b[0m\u001b[1;33m(\u001b[0m\u001b[0mfrom_lang\u001b[0m\u001b[1;33m=\u001b[0m\u001b[1;34m\"de\"\u001b[0m\u001b[1;33m,\u001b[0m\u001b[0mto_lang\u001b[0m\u001b[1;33m=\u001b[0m\u001b[1;34m\"en\"\u001b[0m\u001b[1;33m)\u001b[0m\u001b[1;33m\u001b[0m\u001b[1;33m\u001b[0m\u001b[0m\n\u001b[1;32m----> 4\u001b[1;33m     \u001b[0mtranslation\u001b[0m \u001b[1;33m=\u001b[0m \u001b[0mtranslator\u001b[0m\u001b[1;33m.\u001b[0m\u001b[0mtranslate\u001b[0m\u001b[1;33m(\u001b[0m\u001b[0mstr\u001b[0m\u001b[1;33m)\u001b[0m\u001b[1;33m\u001b[0m\u001b[1;33m\u001b[0m\u001b[0m\n\u001b[0m\u001b[0;32m      5\u001b[0m     \u001b[1;32mreturn\u001b[0m \u001b[0mtranslation\u001b[0m\u001b[1;33m\u001b[0m\u001b[1;33m\u001b[0m\u001b[0m\n",
      "\u001b[1;32m~\\AppData\\Local\\Programs\\Python\\Python39\\lib\\site-packages\\translate\\translate.py\u001b[0m in \u001b[0;36mtranslate\u001b[1;34m(self, text)\u001b[0m\n\u001b[0;32m     43\u001b[0m \u001b[1;33m\u001b[0m\u001b[0m\n\u001b[0;32m     44\u001b[0m         \u001b[0mtext_list\u001b[0m \u001b[1;33m=\u001b[0m \u001b[0mwrap\u001b[0m\u001b[1;33m(\u001b[0m\u001b[0mtext\u001b[0m\u001b[1;33m,\u001b[0m \u001b[0mTRANSLATION_API_MAX_LENGHT\u001b[0m\u001b[1;33m,\u001b[0m \u001b[0mreplace_whitespace\u001b[0m\u001b[1;33m=\u001b[0m\u001b[1;32mFalse\u001b[0m\u001b[1;33m)\u001b[0m\u001b[1;33m\u001b[0m\u001b[1;33m\u001b[0m\u001b[0m\n\u001b[1;32m---> 45\u001b[1;33m         \u001b[1;32mreturn\u001b[0m \u001b[1;34m' '\u001b[0m\u001b[1;33m.\u001b[0m\u001b[0mjoin\u001b[0m\u001b[1;33m(\u001b[0m\u001b[0mself\u001b[0m\u001b[1;33m.\u001b[0m\u001b[0mprovider\u001b[0m\u001b[1;33m.\u001b[0m\u001b[0mget_translation\u001b[0m\u001b[1;33m(\u001b[0m\u001b[0mtext_wraped\u001b[0m\u001b[1;33m)\u001b[0m \u001b[1;32mfor\u001b[0m \u001b[0mtext_wraped\u001b[0m \u001b[1;32min\u001b[0m \u001b[0mtext_list\u001b[0m\u001b[1;33m)\u001b[0m\u001b[1;33m\u001b[0m\u001b[1;33m\u001b[0m\u001b[0m\n\u001b[0m",
      "\u001b[1;31mRuntimeError\u001b[0m: generator raised StopIteration"
     ]
    }
   ],
   "source": [
    "path=\"./full_data/hate_speech_mlma/hate_speech_mlma/gr_dataset.csv\"\n",
    "df=pandas.read_csv(path, encoding = \"ISO-8859-1\", engine='python')\n",
    "\n",
    "for row in df.itertuples():\n",
    "    print(translateIt(row.Tweet))\n",
    "\n",
    "df.to_csv(\"translated_german.csv\")\n"
   ]
  },
  {
   "cell_type": "code",
   "execution_count": null,
   "id": "1c953f5a-f78d-470e-9126-387d1c0f4d24",
   "metadata": {},
   "outputs": [],
   "source": []
  }
 ],
 "metadata": {
  "kernelspec": {
   "display_name": "Python 3 (ipykernel)",
   "language": "python",
   "name": "python3"
  },
  "language_info": {
   "codemirror_mode": {
    "name": "ipython",
    "version": 3
   },
   "file_extension": ".py",
   "mimetype": "text/x-python",
   "name": "python",
   "nbconvert_exporter": "python",
   "pygments_lexer": "ipython3",
   "version": "3.9.7"
  }
 },
 "nbformat": 4,
 "nbformat_minor": 5
}
