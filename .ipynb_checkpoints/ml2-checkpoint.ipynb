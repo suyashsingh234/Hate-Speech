{
 "cells": [
  {
   "cell_type": "code",
   "execution_count": 1,
   "id": "602abdb4",
   "metadata": {},
   "outputs": [],
   "source": [
    "import numpy as np\n",
    "import pandas as pd\n",
    "from sklearn import metrics, manifold\n",
    "from tqdm import tqdm\n",
    "import gensim.downloader as gensim_api\n",
    "import transformers\n",
    "import os"
   ]
  },
  {
   "cell_type": "code",
   "execution_count": 2,
   "id": "bcf36c6a",
   "metadata": {},
   "outputs": [
    {
     "name": "stdout",
     "output_type": "stream",
     "text": [
      "0        rt mleew boy dats cold tyga dwn bad for cuffi...\n",
      "1        rt urkindofbrand dawg rt sbaby life you ever ...\n",
      "2        rt c g anderson viva based she look like a tr...\n",
      "3        rt shenikaroberts the shit you hear about me ...\n",
      "4        t madison x the shit just blows me claim you ...\n",
      "                              ...                        \n",
      "3995            msoltan koredeb the witches took them hoe\n",
      "3996     msoltan matt simonson koredeb nvm thought we ...\n",
      "3997     mtbornnard it s got good mojo for sure paybac...\n",
      "3998     m a larson stevestreza you re saying zebras a...\n",
      "3999                              m carbonaro nice pussy \n",
      "Name: clean, Length: 4000, dtype: object\n"
     ]
    }
   ],
   "source": [
    "df=pd.read_csv('output1.csv',nrows=4000)\n",
    "print(df[\"clean\"])"
   ]
  },
  {
   "cell_type": "code",
   "execution_count": 3,
   "id": "2107691c",
   "metadata": {},
   "outputs": [],
   "source": [
    "nlp = gensim_api.load(\"glove-wiki-gigaword-300\")"
   ]
  },
  {
   "cell_type": "code",
   "execution_count": 4,
   "id": "b86c9512",
   "metadata": {},
   "outputs": [
    {
     "data": {
      "text/plain": [
       "[('slur', 0.5023007392883301),\n",
       " ('niggers', 0.5003143548965454),\n",
       " ('faggot', 0.4708784222602844)]"
      ]
     },
     "execution_count": 4,
     "metadata": {},
     "output_type": "execute_result"
    }
   ],
   "source": [
    "nlp.most_similar([\"nigger\"], topn=3)"
   ]
  },
  {
   "cell_type": "code",
   "execution_count": 5,
   "id": "773a60b3",
   "metadata": {},
   "outputs": [],
   "source": [
    "def get_similar_words(lst_words, top, nlp):\n",
    "    lst_out = lst_words\n",
    "    for tupla in nlp.most_similar(lst_words, topn=top):\n",
    "        lst_out.append(tupla[0])\n",
    "    return list(set(lst_out))"
   ]
  },
  {
   "cell_type": "code",
   "execution_count": 6,
   "id": "08569834",
   "metadata": {},
   "outputs": [],
   "source": [
    "def similarWords(words, top, nlp):\n",
    "    out = words\n",
    "    for tupl in nlp.most_similar(words, topn=top):\n",
    "        out.append(tupl[0])\n",
    "    return list(set(out))"
   ]
  },
  {
   "cell_type": "code",
   "execution_count": 7,
   "id": "5da4bedb",
   "metadata": {},
   "outputs": [],
   "source": [
    "clusters={}\n",
    "clusters['Hate']=get_similar_words(['nigger'], top=30, nlp=nlp)"
   ]
  },
  {
   "cell_type": "code",
   "execution_count": 8,
   "id": "84dae921",
   "metadata": {},
   "outputs": [
    {
     "name": "stderr",
     "output_type": "stream",
     "text": [
      "Some layers from the model checkpoint at al were not used when initializing TFDistilBertModel: ['activation_13', 'vocab_layer_norm', 'vocab_projector', 'vocab_transform']\n",
      "- This IS expected if you are initializing TFDistilBertModel from the checkpoint of a model trained on another task or with another architecture (e.g. initializing a BertForSequenceClassification model from a BertForPreTraining model).\n",
      "- This IS NOT expected if you are initializing TFDistilBertModel from the checkpoint of a model that you expect to be exactly identical (initializing a BertForSequenceClassification model from a BertForSequenceClassification model).\n",
      "All the layers of TFDistilBertModel were initialized from the model checkpoint at al.\n",
      "If your task is similar to the task the model of the checkpoint was trained on, you can already use TFDistilBertModel for predictions without further training.\n"
     ]
    }
   ],
   "source": [
    "tokenizer = transformers.DistilBertTokenizer.from_pretrained('al', do_lower_case=True)\n",
    "nlp = transformers.TFDistilBertModel.from_pretrained('al')"
   ]
  },
  {
   "cell_type": "code",
   "execution_count": 9,
   "id": "cabcd65e",
   "metadata": {},
   "outputs": [],
   "source": [
    "def utils_bert_embedding(txt, tokenizer, nlp):\n",
    "    '''\n",
    "    Word embedding with Bert (equivalent to nlp[\"word\"]).\n",
    "    :parameter\n",
    "        :param txt: string \n",
    "        :param tokenizer: transformers tokenizer\n",
    "        :param nlp: transformers bert\n",
    "    :return\n",
    "        tensor sentences x words x vector (1x3x768) \n",
    "    '''\n",
    "    # tokenize sentence to tokens (integers)\n",
    "    idx = tokenizer.encode(txt)\n",
    "    # convert to array of shape (1, num_words+2) - EOS and CLS added\n",
    "    idx = np.array(idx)[None,:]\n",
    "    # generate embeddings for each token - output is a tuple\n",
    "    embedding = nlp(idx)\n",
    "    # select first member of the tuple, remove first dimension which is 1 to get (num_words,embedding size 712)\n",
    "    # exclude CLS and EOS tokens\n",
    "    X = np.array(embedding[0][0][1:-1])\n",
    "    return X"
   ]
  },
  {
   "cell_type": "code",
   "execution_count": 10,
   "id": "6d893fb5",
   "metadata": {},
   "outputs": [
    {
     "name": "stderr",
     "output_type": "stream",
     "text": [
      "100%|██████████████████████████████████████| 4000/4000 [10:50<00:00,  6.15it/s]"
     ]
    },
    {
     "name": "stdout",
     "output_type": "stream",
     "text": [
      "Wall time: 10min 50s\n"
     ]
    },
    {
     "name": "stderr",
     "output_type": "stream",
     "text": [
      "\n"
     ]
    }
   ],
   "source": [
    "%%time\n",
    "## create list of news vector\n",
    "lst_mean_vecs = [utils_bert_embedding(txt, tokenizer, nlp).mean(0) for txt in tqdm(df[\"clean\"])]"
   ]
  },
  {
   "cell_type": "code",
   "execution_count": 11,
   "id": "4162cc94",
   "metadata": {},
   "outputs": [
    {
     "data": {
      "text/plain": [
       "(4000, 768)"
      ]
     },
     "execution_count": 11,
     "metadata": {},
     "output_type": "execute_result"
    }
   ],
   "source": [
    "X = np.array(lst_mean_vecs)\n",
    "X.shape"
   ]
  },
  {
   "cell_type": "code",
   "execution_count": 12,
   "id": "945ccdde",
   "metadata": {},
   "outputs": [],
   "source": [
    "np.savetxt(\"mean_vec1.csv\", X, delimiter=\"/\")"
   ]
  },
  {
   "cell_type": "code",
   "execution_count": 13,
   "id": "cccf300c",
   "metadata": {},
   "outputs": [
    {
     "name": "stdout",
     "output_type": "stream",
     "text": [
      "[[-2.5680837e-01  2.3240681e-01  1.6965662e-01 ... -8.8777855e-02\n",
      "   1.4019369e-02  1.4557248e-01]\n",
      " [ 8.4562436e-02  3.2585591e-01  4.1670072e-01 ... -1.7362714e-01\n",
      "   2.8379065e-01 -5.1412895e-02]\n",
      " [ 2.2545581e-01 -2.6025310e-01  3.2163188e-01 ... -3.3039427e-01\n",
      "   1.9219832e-01  1.6776156e-01]\n",
      " ...\n",
      " [ 1.4312008e-01  1.5530565e-01  3.5850555e-01 ... -1.1386413e-01\n",
      "   1.8839721e-01 -3.0466489e-04]\n",
      " [ 9.6061237e-02  8.8907346e-02  2.4147642e-01 ...  4.4398159e-02\n",
      "   1.3453141e-01  1.7341268e-01]\n",
      " [ 8.6221755e-02 -2.6772487e-01  4.6793181e-01 ...  6.5415413e-03\n",
      "  -4.6825301e-02  1.2560053e-01]]\n"
     ]
    }
   ],
   "source": [
    "print(X)"
   ]
  },
  {
   "cell_type": "code",
   "execution_count": 14,
   "id": "79dc74f9",
   "metadata": {},
   "outputs": [
    {
     "name": "stdout",
     "output_type": "stream",
     "text": [
      "[[-2.56808370e-01  2.32406810e-01  1.69656619e-01 ... -8.87778550e-02\n",
      "   1.40193691e-02  1.45572484e-01]\n",
      " [ 8.45624357e-02  3.25855911e-01  4.16700721e-01 ... -1.73627138e-01\n",
      "   2.83790648e-01 -5.14128953e-02]\n",
      " [ 2.25455806e-01 -2.60253102e-01  3.21631879e-01 ... -3.30394268e-01\n",
      "   1.92198321e-01  1.67761564e-01]\n",
      " ...\n",
      " [ 1.43120080e-01  1.55305654e-01  3.58505547e-01 ... -1.13864131e-01\n",
      "   1.88397214e-01 -3.04664893e-04]\n",
      " [ 9.60612372e-02  8.89073461e-02  2.41476417e-01 ...  4.43981588e-02\n",
      "   1.34531409e-01  1.73412681e-01]\n",
      " [ 8.62217546e-02 -2.67724872e-01  4.67931807e-01 ...  6.54154131e-03\n",
      "  -4.68253009e-02  1.25600532e-01]]\n"
     ]
    }
   ],
   "source": [
    "from numpy import genfromtxt\n",
    "my_data = genfromtxt('mean_vec1.csv', delimiter='/')\n",
    "print(my_data)"
   ]
  },
  {
   "cell_type": "code",
   "execution_count": 15,
   "id": "ab13dfc0",
   "metadata": {},
   "outputs": [
    {
     "name": "stderr",
     "output_type": "stream",
     "text": [
      "100%|████████████████████████████████████████████| 1/1 [00:00<00:00,  3.42it/s]\n"
     ]
    }
   ],
   "source": [
    "dic_y = {k:utils_bert_embedding(v, tokenizer, nlp).mean(0) for k,v in tqdm(clusters.items())}"
   ]
  },
  {
   "cell_type": "code",
   "execution_count": 16,
   "id": "c10a883a",
   "metadata": {},
   "outputs": [
    {
     "name": "stdout",
     "output_type": "stream",
     "text": [
      "dict_keys(['Hate'])\n"
     ]
    }
   ],
   "source": [
    "print(dic_y.keys())"
   ]
  },
  {
   "cell_type": "code",
   "execution_count": 17,
   "id": "f110330e",
   "metadata": {},
   "outputs": [],
   "source": [
    "def fix_NAN_inf_values(x):\n",
    "    '''Replace NaN with zero and infinity with large finite numbers'''\n",
    "    if len(np.where(np.isnan(X))[0])>0 or len(np.where(np.isnan(X))[1])>0:\n",
    "        return np.nan_to_num(X)"
   ]
  },
  {
   "cell_type": "code",
   "execution_count": 18,
   "id": "b31beb83",
   "metadata": {},
   "outputs": [],
   "source": [
    "similarities = np.array(\n",
    "            [metrics.pairwise.cosine_similarity(X, [dic_y['Hate']]).T.tolist()[0]]\n",
    "            ).T"
   ]
  },
  {
   "cell_type": "code",
   "execution_count": 19,
   "id": "c2506e38",
   "metadata": {},
   "outputs": [
    {
     "name": "stdout",
     "output_type": "stream",
     "text": [
      "[[0.4936246 ]\n",
      " [0.58665711]\n",
      " [0.57123655]\n",
      " ...\n",
      " [0.5099898 ]\n",
      " [0.55421531]\n",
      " [0.50609505]]\n"
     ]
    }
   ],
   "source": [
    "print(similarities)"
   ]
  },
  {
   "cell_type": "code",
   "execution_count": 20,
   "id": "1a11f139",
   "metadata": {},
   "outputs": [],
   "source": [
    "dtf=pd.read_csv('labeled_data1.csv',nrows=4000)\n"
   ]
  },
  {
   "cell_type": "code",
   "execution_count": 21,
   "id": "075197d7",
   "metadata": {},
   "outputs": [
    {
     "name": "stdout",
     "output_type": "stream",
     "text": [
      "0       2\n",
      "1       1\n",
      "2       1\n",
      "3       1\n",
      "4       1\n",
      "       ..\n",
      "3995    2\n",
      "3996    1\n",
      "3997    1\n",
      "3998    1\n",
      "3999    2\n",
      "Name: class, Length: 4000, dtype: int64\n"
     ]
    }
   ],
   "source": [
    "print(dtf['class'])"
   ]
  },
  {
   "cell_type": "code",
   "execution_count": 22,
   "id": "318538f3",
   "metadata": {},
   "outputs": [
    {
     "name": "stdout",
     "output_type": "stream",
     "text": [
      "1\n"
     ]
    }
   ],
   "source": [
    "z=np.array(dtf['class'])\n",
    "print(z[2193])"
   ]
  },
  {
   "cell_type": "code",
   "execution_count": 23,
   "id": "a2b5e3fa",
   "metadata": {},
   "outputs": [],
   "source": [
    "import matplotlib.pyplot as plt"
   ]
  },
  {
   "cell_type": "code",
   "execution_count": 24,
   "id": "14bcfeb8",
   "metadata": {},
   "outputs": [
    {
     "data": {
      "text/plain": [
       "[<matplotlib.lines.Line2D at 0xf589d4a4f0>]"
      ]
     },
     "execution_count": 24,
     "metadata": {},
     "output_type": "execute_result"
    },
    {
     "data": {
      "image/png": "[encoded data removed]",
      "text/plain": [
       "<Figure size 432x288 with 1 Axes>"
      ]
     },
     "metadata": {
      "needs_background": "light"
     },
     "output_type": "display_data"
    }
   ],
   "source": [
    "plt.plot(similarities)"
   ]
  },
  {
   "cell_type": "code",
   "execution_count": 25,
   "id": "ac3ed244",
   "metadata": {},
   "outputs": [
    {
     "data": {
      "image/png": "[encoded data removed]",
      "text/plain": [
       "<Figure size 432x288 with 1 Axes>"
      ]
     },
     "metadata": {
      "needs_background": "light"
     },
     "output_type": "display_data"
    }
   ],
   "source": [
    "y=[]\n",
    "for similarity in similarities:\n",
    "    y.append(similarity[0])\n",
    "\n",
    "x=np.arange(df.shape[0])\n",
    "plt.bar(x,height=y)\n",
    "plt.show()"
   ]
  },
  {
   "cell_type": "code",
   "execution_count": 26,
   "id": "a5a64375",
   "metadata": {},
   "outputs": [
    {
     "data": {
      "text/plain": [
       "[<matplotlib.lines.Line2D at 0xf58e869310>]"
      ]
     },
     "execution_count": 26,
     "metadata": {},
     "output_type": "execute_result"
    },
    {
     "data": {
      "image/png": "[encoded data removed]",
      "text/plain": [
       "<Figure size 432x288 with 1 Axes>"
      ]
     },
     "metadata": {
      "needs_background": "light"
     },
     "output_type": "display_data"
    }
   ],
   "source": [
    "plt.plot(z[:200])"
   ]
  },
  {
   "cell_type": "code",
   "execution_count": 32,
   "id": "c801d6c2",
   "metadata": {},
   "outputs": [
    {
     "name": "stdout",
     "output_type": "stream",
     "text": [
      "3351\n"
     ]
    }
   ],
   "source": [
    "relevant=(z == 0).sum()+(z == 1).sum()\n",
    "print(relevant)"
   ]
  },
  {
   "cell_type": "code",
   "execution_count": 45,
   "id": "c5f55171",
   "metadata": {},
   "outputs": [
    {
     "name": "stdout",
     "output_type": "stream",
     "text": [
      "3351\n"
     ]
    }
   ],
   "source": [
    "retrieved=(similarities>0.50).sum()\n",
    "print(relevant)\n"
   ]
  },
  {
   "cell_type": "code",
   "execution_count": 46,
   "id": "0783cedb",
   "metadata": {},
   "outputs": [
    {
     "name": "stdout",
     "output_type": "stream",
     "text": [
      "2798\n"
     ]
    }
   ],
   "source": [
    "tp=0\n",
    "for i in range (0,4000):\n",
    "    if(similarities[i]>0.50 and z[i]<2):\n",
    "        tp=tp+1\n",
    "print(tp)"
   ]
  },
  {
   "cell_type": "code",
   "execution_count": 47,
   "id": "15daf0ff",
   "metadata": {},
   "outputs": [
    {
     "name": "stdout",
     "output_type": "stream",
     "text": [
      "Precision is 0.8415037593984962\n"
     ]
    }
   ],
   "source": [
    "precision=tp/retrieved\n",
    "print(\"Precision is\",precision)"
   ]
  },
  {
   "cell_type": "code",
   "execution_count": 48,
   "id": "bcb11322",
   "metadata": {},
   "outputs": [
    {
     "name": "stdout",
     "output_type": "stream",
     "text": [
      "Recall is 0.8349746344374813\n"
     ]
    }
   ],
   "source": [
    "fn=0\n",
    "for i in range (0,4000):\n",
    "    if(similarities[i]<0.50 and z[i]<2):\n",
    "        fn=fn+1\n",
    "recall=tp/(fn+tp)\n",
    "print(\"Recall is\",recall)"
   ]
  },
  {
   "cell_type": "code",
   "execution_count": 49,
   "id": "a2c5e539",
   "metadata": {},
   "outputs": [
    {
     "name": "stdout",
     "output_type": "stream",
     "text": [
      "Accuracy is 0.73\n"
     ]
    }
   ],
   "source": [
    "fp=retrieved-tp\n",
    "tn=0\n",
    "for i in range (0,4000):\n",
    "    if(similarities[i]<0.50 and z[i]==2):\n",
    "        tn=tn+1\n",
    "accuracy=(tp+tn)/(tp+tn+fn+fp)\n",
    "print(\"Accuracy is\",accuracy)"
   ]
  },
  {
   "cell_type": "code",
   "execution_count": null,
   "id": "fc3ee410",
   "metadata": {},
   "outputs": [],
   "source": []
  },
  {
   "cell_type": "code",
   "execution_count": null,
   "id": "99dca86b",
   "metadata": {},
   "outputs": [],
   "source": []
  }
 ],
 "metadata": {
  "kernelspec": {
   "display_name": "Python 3 (ipykernel)",
   "language": "python",
   "name": "python3"
  },
  "language_info": {
   "codemirror_mode": {
    "name": "ipython",
    "version": 3
   },
   "file_extension": ".py",
   "mimetype": "text/x-python",
   "name": "python",
   "nbconvert_exporter": "python",
   "pygments_lexer": "ipython3",
   "version": "3.9.7"
  }
 },
 "nbformat": 4,
 "nbformat_minor": 5
}
